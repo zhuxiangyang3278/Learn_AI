{
 "cells": [
  {
   "cell_type": "code",
   "execution_count": 1,
   "id": "061da6c3",
   "metadata": {
    "ExecuteTime": {
     "end_time": "2025-06-30T00:49:03.684292Z",
     "start_time": "2025-06-30T00:48:57.473112Z"
    },
    "execution": {
     "iopub.execute_input": "2025-06-30T00:56:57.982722Z",
     "iopub.status.busy": "2025-06-30T00:56:57.982508Z",
     "iopub.status.idle": "2025-06-30T00:57:03.466985Z",
     "shell.execute_reply": "2025-06-30T00:57:03.466432Z",
     "shell.execute_reply.started": "2025-06-30T00:56:57.982699Z"
    }
   },
   "outputs": [],
   "source": [
    "import torch\n",
    "from torchvision import datasets\n",
    "from torchvision.transforms import ToTensor\n",
    "import matplotlib.pyplot as plt\n",
    "from torch.utils.data import random_split\n",
    "from torch.utils.data import DataLoader\n",
    "import numpy as np\n",
    "import os\n",
    "from torchvision import transforms\n",
    "from tqdm.auto import tqdm\n",
    "import pandas as pd\n",
    "import matplotlib.pyplot as plt\n",
    "from my_deeplearning_train import train_classification_model, evaluate_classification_model, EarlyStopping, ModelSaver,plot_learning_loss_and_acc_curves\n",
    "\n",
    "# Define the transforms"
   ]
  },
  {
   "cell_type": "markdown",
   "id": "06595958",
   "metadata": {},
   "source": [
    "### 划分验证集、测试集、训练集，并加入dataloader"
   ]
  },
  {
   "cell_type": "code",
   "execution_count": 2,
   "id": "7932416c",
   "metadata": {
    "ExecuteTime": {
     "end_time": "2025-06-30T00:49:10.326001Z",
     "start_time": "2025-06-30T00:49:03.686289Z"
    },
    "execution": {
     "iopub.execute_input": "2025-06-30T00:57:03.468639Z",
     "iopub.status.busy": "2025-06-30T00:57:03.468201Z",
     "iopub.status.idle": "2025-06-30T00:57:07.659393Z",
     "shell.execute_reply": "2025-06-30T00:57:07.658903Z",
     "shell.execute_reply.started": "2025-06-30T00:57:03.468618Z"
    },
    "tags": []
   },
   "outputs": [],
   "source": [
    "# 从torchvision.datasets中加载FashionMNIST数据集\n",
    "train_data = datasets.FashionMNIST(   #train_data很像一个生成器，逐步将数据加入\n",
    "    root='../data',  # 数据存储路径\n",
    "    train=True,   # 使用训练集\n",
    "    download=True,  # 如果数据不存在则下载\n",
    "    transform=ToTensor()  # 将图像转换为张量\n",
    ")\n",
    "# 计算训练集的均值和标准差\n",
    "train_data_array = torch.stack([img for img, _ in train_data])  # 将训练集中的所有图像堆叠成一个大张量\n",
    "mean = train_data_array.mean()  # 计算所有图像的平均值\n",
    "std = train_data_array.std()    # 计算所有图像的标准差\n",
    "\n",
    "train_data = datasets.FashionMNIST(  \n",
    "    root='../data',  # 数据存储路径\n",
    "    train=True,   # 使用训练集\n",
    "    download=True,  # 如果数据不存在则下载\n",
    "    transform=transforms.Compose([\n",
    "        transforms.ToTensor(),\n",
    "        transforms.Normalize((mean,), (std,))\n",
    "    ])  # 将图像转换为张量并标准化\n",
    ")\n",
    "\n",
    "\n",
    "# 计算训练集和验证集的样本数\n",
    "train_size = 55000\n",
    "val_size =5000\n",
    "\n",
    "# 使用random_split函数将数据集划分为训练集和验证集\n",
    "train_dataset, val_dataset = random_split(\n",
    "    train_data, \n",
    "    [train_size, val_size],\n",
    "    generator=torch.Generator().manual_seed(42)  # 设置随机种子以确保可重复性\n",
    ")\n",
    "\n",
    "\n",
    "\n",
    "\n",
    "# 加载测试数据集\n",
    "test_dataset = datasets.FashionMNIST(\n",
    "    root='../data',  # 指定数据存储路径\n",
    "    train=False,  # 使用测试集\n",
    "    download=True,  # 如果数据不存在则下载\n",
    "    transform=transforms.Compose([transforms.ToTensor(),transforms.Normalize((mean,), (std,))])\n",
    ")\n",
    "\n",
    "\n",
    "# 设置批次大小\n",
    "batch_size = 64\n",
    "\n",
    "# 创建数据加载器\n",
    "train_loader = DataLoader(\n",
    "    train_dataset,  # 训练数据集\n",
    "    batch_size=batch_size,  # 每批次的样本数\n",
    "    shuffle=True  # 随机打乱数据\n",
    ")\n",
    "\n",
    "val_loader = DataLoader(\n",
    "    val_dataset,  # 验证数据集\n",
    "    batch_size=batch_size,\n",
    "    shuffle=False  # 验证集不需要打乱\n",
    ")\n",
    "\n",
    "test_loader = DataLoader(\n",
    "    test_dataset,  # 测试数据集\n",
    "    batch_size=batch_size,\n",
    "    shuffle=False  # 测试集不需要打乱\n",
    ")\n"
   ]
  },
  {
   "cell_type": "code",
   "execution_count": 3,
   "id": "32850d06",
   "metadata": {
    "ExecuteTime": {
     "end_time": "2025-06-30T00:49:10.333059Z",
     "start_time": "2025-06-30T00:49:10.327998Z"
    },
    "execution": {
     "iopub.execute_input": "2025-06-30T00:57:07.660160Z",
     "iopub.status.busy": "2025-06-30T00:57:07.659962Z",
     "iopub.status.idle": "2025-06-30T00:57:07.662577Z",
     "shell.execute_reply": "2025-06-30T00:57:07.662193Z",
     "shell.execute_reply.started": "2025-06-30T00:57:07.660143Z"
    }
   },
   "outputs": [],
   "source": [
    "# # 在测试集上评估模型\n",
    "# test_loss, test_accuracy = evaluate_model(model, test_loader, device, criterion)\n",
    "\n",
    "# print(f'\\n测试集结果:')\n",
    "# print(f'平均损失: {test_loss:.4f}')\n",
    "# print(f'准确率: {test_accuracy:.2f}%')\n"
   ]
  },
  {
   "cell_type": "markdown",
   "id": "60ff03e8",
   "metadata": {},
   "source": [
    "### 搭建神经网络类"
   ]
  },
  {
   "cell_type": "code",
   "execution_count": 4,
   "id": "1e4aa2f5",
   "metadata": {
    "ExecuteTime": {
     "end_time": "2025-06-30T00:49:10.343653Z",
     "start_time": "2025-06-30T00:49:10.336055Z"
    },
    "execution": {
     "iopub.execute_input": "2025-06-30T00:57:07.663304Z",
     "iopub.status.busy": "2025-06-30T00:57:07.663148Z",
     "iopub.status.idle": "2025-06-30T00:57:07.668326Z",
     "shell.execute_reply": "2025-06-30T00:57:07.667911Z",
     "shell.execute_reply.started": "2025-06-30T00:57:07.663288Z"
    }
   },
   "outputs": [],
   "source": [
    "import torch\n",
    "import torch.nn as nn\n",
    "\n",
    "class NeuralNetwork(nn.Module):\n",
    "    def __init__(self,):\n",
    "        super().__init__()\n",
    "        # 构建三个隐藏层的神经网络\n",
    "        # 输入层到第一个隐藏层: 784 (28*28) -> 128\n",
    "        self.hidden1 = nn.Linear(28*28, 128)\n",
    "        # 第一个隐藏层到第二个隐藏层: 128 -> 64\n",
    "        self.hidden2 = nn.Linear(128, 64)\n",
    "        # 第二个隐藏层到输出层: 64 -> 10 (10个类别)\n",
    "        self.hidden3 = nn.Linear(64, 10)\n",
    "        # 定义ReLU激活函数,用于在神经网络中引入非线性变换\n",
    "        self.relu = nn.ReLU()\n",
    "        self.dropout = nn.Dropout(0.2)\n",
    "\n",
    "\n",
    "    def forward(self, x):\n",
    "        # 将输入张量展平为一维向量\n",
    "        # 将输入张量重塑为(batch_size, 784)的形状，其中784=28*28是输入图像的像素总数\n",
    "        x = x.view(-1, 1*28 * 28)\n",
    "        # 前向传播\n",
    "        # 通过第一个隐藏层，应用ReLU激活函数\n",
    "        x = self.relu(self.hidden1(x))\n",
    "        # 通过第二个隐藏层，应用ReLU激活函数\n",
    "        x = self.relu(self.hidden2(x))\n",
    "        # 通过第三个隐藏层，得到最终输出\n",
    "        x = self.hidden3(x)\n",
    "        # 返回神经网络的输出结果\n",
    "        return x\n"
   ]
  },
  {
   "cell_type": "markdown",
   "id": "cdccbabb",
   "metadata": {},
   "source": [
    "### 设置损失函数和优化器，以及用cpu还是GPU"
   ]
  },
  {
   "cell_type": "code",
   "execution_count": 5,
   "id": "3bcd9d24",
   "metadata": {
    "ExecuteTime": {
     "end_time": "2025-06-30T00:49:10.362445Z",
     "start_time": "2025-06-30T00:49:10.345652Z"
    },
    "execution": {
     "iopub.execute_input": "2025-06-30T00:57:07.669128Z",
     "iopub.status.busy": "2025-06-30T00:57:07.668854Z",
     "iopub.status.idle": "2025-06-30T00:57:08.012487Z",
     "shell.execute_reply": "2025-06-30T00:57:08.012002Z",
     "shell.execute_reply.started": "2025-06-30T00:57:07.669111Z"
    }
   },
   "outputs": [],
   "source": [
    "model=NeuralNetwork()\n",
    "device = torch.device('cuda:0' if torch.cuda.is_available() else 'cpu')\n",
    "model.to(device)\n",
    "# 定义损失函数为交叉熵损失\n",
    "# 定义损失函数为交叉熵损失\n",
    "criterion = nn.CrossEntropyLoss() # 交叉熵损失函数用于多分类问题:\n",
    "                                 # 1. 它将模型输出的logits转换为概率分布(通过softmax)\n",
    "                                 # 2. 计算预测概率分布与真实标签之间的交叉熵\n",
    "                                 # 3. 自动处理数值稳定性问题\n",
    "                                 # 4. 输出一个标量损失值,用于反向传播优化模型\n",
    "\n",
    "# 定义优化器为Adam，学习率设为0.001\n",
    "optimizer = torch.optim.SGD(model.parameters(), lr=0.001,momentum=0.9,nesterov=True)#momentum意思：动量，表示在更新参数时，考虑之前的梯度信息，以加速收敛\n"
   ]
  },
  {
   "cell_type": "code",
   "execution_count": 6,
   "id": "578796bc",
   "metadata": {
    "ExecuteTime": {
     "end_time": "2025-06-30T00:49:10.367789Z",
     "start_time": "2025-06-30T00:49:10.363445Z"
    },
    "execution": {
     "iopub.execute_input": "2025-06-30T00:57:08.013310Z",
     "iopub.status.busy": "2025-06-30T00:57:08.013085Z",
     "iopub.status.idle": "2025-06-30T00:57:08.015625Z",
     "shell.execute_reply": "2025-06-30T00:57:08.015225Z",
     "shell.execute_reply.started": "2025-06-30T00:57:08.013293Z"
    }
   },
   "outputs": [],
   "source": [
    "# # 在测试集上评估模型\n",
    "# test_loss, test_accuracy = evaluate_model(model, test_loader, device, criterion)\n",
    "\n",
    "# print(f'\\n测试集结果:')\n",
    "# print(f'平均损失: {test_loss:.4f}')\n",
    "# print(f'准确率: {test_accuracy:.2f}%')\n"
   ]
  },
  {
   "cell_type": "markdown",
   "id": "b6178d38",
   "metadata": {},
   "source": [
    "### 计算模型的参数量"
   ]
  },
  {
   "cell_type": "markdown",
   "id": "7c5cd28a",
   "metadata": {},
   "source": [
    "####  类里有call方法时，创建的对象可以（）有参数"
   ]
  },
  {
   "cell_type": "code",
   "execution_count": 7,
   "id": "6c1ef4c0",
   "metadata": {
    "ExecuteTime": {
     "end_time": "2025-06-30T00:49:10.376886Z",
     "start_time": "2025-06-30T00:49:10.368791Z"
    },
    "execution": {
     "iopub.execute_input": "2025-06-30T00:57:08.017212Z",
     "iopub.status.busy": "2025-06-30T00:57:08.016863Z",
     "iopub.status.idle": "2025-06-30T00:57:08.021335Z",
     "shell.execute_reply": "2025-06-30T00:57:08.020881Z",
     "shell.execute_reply.started": "2025-06-30T00:57:08.017195Z"
    }
   },
   "outputs": [
    {
     "name": "stdout",
     "output_type": "stream",
     "text": [
      "层: hidden1.weight, 参数量: 100,352\n",
      "层: hidden1.bias, 参数量: 128\n",
      "层: hidden2.weight, 参数量: 8,192\n",
      "层: hidden2.bias, 参数量: 64\n",
      "层: hidden3.weight, 参数量: 640\n",
      "层: hidden3.bias, 参数量: 10\n",
      "模型总参数量: 109,386\n"
     ]
    }
   ],
   "source": [
    "def count_parameters(model):\n",
    "    \"\"\"计算模型的总参数量和每层参数量\"\"\"\n",
    "    # 使用nn.Module的方法获取参数量\n",
    "    total_params = 0\n",
    "    \n",
    "    # 遍历模型的所有命名参数\n",
    "    for name, parameter in model.named_parameters():\n",
    "        param_count = parameter.numel()\n",
    "        total_params += param_count\n",
    "        # 打印每层的参数名称、形状和参数量\n",
    "        print(f'层: {name}',end=', ')\n",
    "        print(f'参数量: {param_count:,}')\n",
    "        # 如果是权重层，检查是否有对应的bias\n",
    "        if 'weight' in name:\n",
    "            bias_name = name.replace('weight', 'bias')\n",
    "    \n",
    "    return total_params\n",
    "\n",
    "# 打印模型总参数量\n",
    "total_parameters = count_parameters(model)\n",
    "print(f'模型总参数量: {total_parameters:,}')\n"
   ]
  },
  {
   "cell_type": "code",
   "execution_count": 8,
   "id": "a8a388f6",
   "metadata": {
    "ExecuteTime": {
     "end_time": "2025-06-30T00:51:12.941694Z",
     "start_time": "2025-06-30T00:50:56.386447Z"
    },
    "ExecutionIndicator": {
     "show": true
    },
    "execution": {
     "iopub.execute_input": "2025-06-30T00:57:08.022023Z",
     "iopub.status.busy": "2025-06-30T00:57:08.021869Z",
     "iopub.status.idle": "2025-06-30T01:01:15.666206Z",
     "shell.execute_reply": "2025-06-30T01:01:15.665673Z",
     "shell.execute_reply.started": "2025-06-30T00:57:08.022007Z"
    },
    "tags": []
   },
   "outputs": [
    {
     "name": "stdout",
     "output_type": "stream",
     "text": [
      "训练开始，共43000步\n"
     ]
    },
    {
     "data": {
      "application/vnd.jupyter.widget-view+json": {
       "model_id": "d8e7c89122b74e69b07df2cad4de046f",
       "version_major": 2,
       "version_minor": 0
      },
      "text/plain": [
       "  0%|          | 0/43000 [00:00<?, ?it/s]"
      ]
     },
     "metadata": {},
     "output_type": "display_data"
    },
    {
     "name": "stdout",
     "output_type": "stream",
     "text": [
      "早停触发! 最佳验证准确率: 88.4800\n",
      "早停: 在20500 步\n"
     ]
    }
   ],
   "source": [
    "early_stopping=EarlyStopping(patience=5, delta=0.01) \n",
    "model_saver=ModelSaver(save_best_only=True)\n",
    "model_train, history = train_classification_model(model, train_loader, val_loader, criterion, optimizer, device,epochs=50,early_stopping=early_stopping,model_saver=model_saver)"
   ]
  },
  {
   "cell_type": "code",
   "execution_count": 9,
   "id": "9d7c7a76",
   "metadata": {
    "ExecuteTime": {
     "end_time": "2025-06-30T00:51:12.942698Z",
     "start_time": "2025-06-30T00:51:12.942698Z"
    },
    "execution": {
     "iopub.execute_input": "2025-06-30T01:01:15.667026Z",
     "iopub.status.busy": "2025-06-30T01:01:15.666804Z",
     "iopub.status.idle": "2025-06-30T01:01:15.854536Z",
     "shell.execute_reply": "2025-06-30T01:01:15.853961Z",
     "shell.execute_reply.started": "2025-06-30T01:01:15.667009Z"
    },
    "tags": []
   },
   "outputs": [
    {
     "data": {
      "image/png": "[encoded data removed]",
      "text/plain": [
       "<Figure size 1000x500 with 2 Axes>"
      ]
     },
     "metadata": {},
     "output_type": "display_data"
    }
   ],
   "source": [
    "# 调用函数绘制学习曲线\n",
    "his=history.copy()\n",
    "plot_learning_loss_and_acc_curves(his,sample_step=500)"
   ]
  },
  {
   "cell_type": "code",
   "execution_count": 10,
   "id": "066c36db",
   "metadata": {
    "execution": {
     "iopub.execute_input": "2025-06-30T01:01:15.855400Z",
     "iopub.status.busy": "2025-06-30T01:01:15.855186Z",
     "iopub.status.idle": "2025-06-30T01:01:17.154978Z",
     "shell.execute_reply": "2025-06-30T01:01:17.154487Z",
     "shell.execute_reply.started": "2025-06-30T01:01:15.855384Z"
    },
    "tags": []
   },
   "outputs": [
    {
     "name": "stdout",
     "output_type": "stream",
     "text": [
      "\n",
      "测试集结果:\n",
      "平均损失: 0.3449\n",
      "准确率: 87.41%\n"
     ]
    }
   ],
   "source": [
    "# 在测试集上评估模型\n",
    "test_accuracy,test_loss  = evaluate_classification_model(model, test_loader, device, criterion)\n",
    "\n",
    "print(f'\\n测试集结果:')\n",
    "print(f'平均损失: {test_loss:.4f}')\n",
    "print(f'准确率: {test_accuracy:.2f}%')\n"
   ]
  },
  {
   "cell_type": "code",
   "execution_count": null,
   "id": "9e71180e",
   "metadata": {},
   "outputs": [],
   "source": []
  }
 ],
 "metadata": {
  "kernelspec": {
   "display_name": "Python 3 (ipykernel)",
   "language": "python",
   "name": "python3"
  },
  "language_info": {
   "codemirror_mode": {
    "name": "ipython",
    "version": 3
   },
   "file_extension": ".py",
   "mimetype": "text/x-python",
   "name": "python",
   "nbconvert_exporter": "python",
   "pygments_lexer": "ipython3",
   "version": "3.11.11"
  }
 },
 "nbformat": 4,
 "nbformat_minor": 5
}
