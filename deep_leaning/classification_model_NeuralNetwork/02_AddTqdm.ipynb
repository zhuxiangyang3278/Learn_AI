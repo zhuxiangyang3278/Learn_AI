{
 "cells": [
  {
   "cell_type": "code",
   "execution_count": 1,
   "id": "061da6c3",
   "metadata": {
    "execution": {
     "iopub.execute_input": "2025-06-29T13:59:18.009104Z",
     "iopub.status.busy": "2025-06-29T13:59:18.008846Z",
     "iopub.status.idle": "2025-06-29T13:59:20.408862Z",
     "shell.execute_reply": "2025-06-29T13:59:20.408454Z",
     "shell.execute_reply.started": "2025-06-29T13:59:18.009080Z"
    }
   },
   "outputs": [],
   "source": [
    "import torch\n",
    "from torchvision import datasets\n",
    "from torchvision.transforms import ToTensor\n",
    "import matplotlib.pyplot as plt\n",
    "from torch.utils.data import random_split\n",
    "from torch.utils.data import DataLoader\n",
    "import numpy as np\n",
    "import os\n",
    "from torchvision import transforms\n",
    "from tqdm.auto import tqdm\n",
    "import pandas as pd\n",
    "import matplotlib.pyplot as plt\n"
   ]
  },
  {
   "cell_type": "markdown",
   "id": "06595958",
   "metadata": {},
   "source": [
    "### 划分验证集、测试集、训练集，并加入dataloader"
   ]
  },
  {
   "cell_type": "code",
   "execution_count": 2,
   "id": "7932416c",
   "metadata": {
    "execution": {
     "iopub.execute_input": "2025-06-29T13:59:20.410643Z",
     "iopub.status.busy": "2025-06-29T13:59:20.410006Z",
     "iopub.status.idle": "2025-06-29T13:59:24.050152Z",
     "shell.execute_reply": "2025-06-29T13:59:24.049757Z",
     "shell.execute_reply.started": "2025-06-29T13:59:20.410616Z"
    },
    "tags": []
   },
   "outputs": [],
   "source": [
    "# 从torchvision.datasets中加载FashionMNIST数据集\n",
    "train_data = datasets.FashionMNIST(   #train_data很像一个生成器，逐步将数据加入\n",
    "    root='../data',  # 数据存储路径\n",
    "    train=True,   # 使用训练集\n",
    "    download=True,  # 如果数据不存在则下载\n",
    "    transform=ToTensor()  # 将图像转换为张量\n",
    ")\n",
    "# 计算训练集的均值和标准差\n",
    "train_data_array = torch.stack([img for img, _ in train_data])  # 将训练集中的所有图像堆叠成一个大张量\n",
    "mean = train_data_array.mean()  # 计算所有图像的平均值\n",
    "std = train_data_array.std()    # 计算所有图像的标准差\n",
    "\n",
    "train_data = datasets.FashionMNIST(  \n",
    "    root='../data',  # 数据存储路径\n",
    "    train=True,   # 使用训练集\n",
    "    download=True,  # 如果数据不存在则下载\n",
    "    transform=transforms.Compose([\n",
    "        transforms.ToTensor(),\n",
    "        transforms.Normalize((mean,), (std,))\n",
    "    ])  # 将图像转换为张量并标准化\n",
    ")\n",
    "\n",
    "\n",
    "# 计算训练集和验证集的样本数\n",
    "train_size = 55000\n",
    "val_size =5000\n",
    "\n",
    "# 使用random_split函数将数据集划分为训练集和验证集\n",
    "train_dataset, val_dataset = random_split(\n",
    "    train_data, \n",
    "    [train_size, val_size],\n",
    "    generator=torch.Generator().manual_seed(42)  # 设置随机种子以确保可重复性\n",
    ")\n",
    "\n",
    "\n",
    "\n",
    "\n",
    "# 加载测试数据集\n",
    "test_dataset = datasets.FashionMNIST(\n",
    "    root='../data',  # 指定数据存储路径\n",
    "    train=False,  # 使用测试集\n",
    "    download=True,  # 如果数据不存在则下载\n",
    "    transform=transforms.Compose([transforms.ToTensor(),transforms.Normalize((mean,), (std,))])\n",
    ")\n",
    "\n",
    "\n",
    "# 设置批次大小\n",
    "batch_size = 64\n",
    "\n",
    "# 创建数据加载器\n",
    "train_loader = DataLoader(\n",
    "    train_dataset,  # 训练数据集\n",
    "    batch_size=batch_size,  # 每批次的样本数\n",
    "    shuffle=True  # 随机打乱数据\n",
    ")\n",
    "\n",
    "val_loader = DataLoader(\n",
    "    val_dataset,  # 验证数据集\n",
    "    batch_size=batch_size,\n",
    "    shuffle=False  # 验证集不需要打乱\n",
    ")\n",
    "\n",
    "test_loader = DataLoader(\n",
    "    test_dataset,  # 测试数据集\n",
    "    batch_size=batch_size,\n",
    "    shuffle=False  # 测试集不需要打乱\n",
    ")\n"
   ]
  },
  {
   "cell_type": "code",
   "execution_count": 3,
   "id": "32850d06",
   "metadata": {
    "execution": {
     "iopub.execute_input": "2025-06-29T13:59:24.050799Z",
     "iopub.status.busy": "2025-06-29T13:59:24.050621Z",
     "iopub.status.idle": "2025-06-29T13:59:24.052882Z",
     "shell.execute_reply": "2025-06-29T13:59:24.052484Z",
     "shell.execute_reply.started": "2025-06-29T13:59:24.050785Z"
    }
   },
   "outputs": [],
   "source": [
    "# # 在测试集上评估模型\n",
    "# test_loss, test_accuracy = evaluate_model(model, test_loader, device, criterion)\n",
    "\n",
    "# print(f'\\n测试集结果:')\n",
    "# print(f'平均损失: {test_loss:.4f}')\n",
    "# print(f'准确率: {test_accuracy:.2f}%')\n"
   ]
  },
  {
   "cell_type": "markdown",
   "id": "60ff03e8",
   "metadata": {},
   "source": [
    "### 搭建神经网络类"
   ]
  },
  {
   "cell_type": "code",
   "execution_count": 4,
   "id": "1e4aa2f5",
   "metadata": {
    "execution": {
     "iopub.execute_input": "2025-06-29T13:59:24.053496Z",
     "iopub.status.busy": "2025-06-29T13:59:24.053267Z",
     "iopub.status.idle": "2025-06-29T13:59:24.056988Z",
     "shell.execute_reply": "2025-06-29T13:59:24.056641Z",
     "shell.execute_reply.started": "2025-06-29T13:59:24.053483Z"
    }
   },
   "outputs": [],
   "source": [
    "import torch\n",
    "import torch.nn as nn\n",
    "\n",
    "class NeuralNetwork(nn.Module):\n",
    "    def __init__(self,):\n",
    "        super().__init__()\n",
    "        # 构建三个隐藏层的神经网络\n",
    "        # 输入层到第一个隐藏层: 784 (28*28) -> 128\n",
    "        self.hidden1 = nn.Linear(28*28, 128)\n",
    "        # 第一个隐藏层到第二个隐藏层: 128 -> 64\n",
    "        self.hidden2 = nn.Linear(128, 64)\n",
    "        # 第二个隐藏层到输出层: 64 -> 10 (10个类别)\n",
    "        self.hidden3 = nn.Linear(64, 10)\n",
    "        # 定义ReLU激活函数,用于在神经网络中引入非线性变换\n",
    "        self.relu = nn.ReLU()\n",
    "        self.dropout = nn.Dropout(0.2)\n",
    "\n",
    "\n",
    "    def forward(self, x):\n",
    "        # 将输入张量展平为一维向量\n",
    "        # 将输入张量重塑为(batch_size, 784)的形状，其中784=28*28是输入图像的像素总数\n",
    "        x = x.view(-1, 1*28 * 28)\n",
    "        # 前向传播\n",
    "        # 通过第一个隐藏层，应用ReLU激活函数\n",
    "        x = self.relu(self.hidden1(x))\n",
    "        # 通过第二个隐藏层，应用ReLU激活函数\n",
    "        x = self.relu(self.hidden2(x))\n",
    "        # 通过第三个隐藏层，得到最终输出\n",
    "        x = self.hidden3(x)\n",
    "        # 返回神经网络的输出结果\n",
    "        return x\n"
   ]
  },
  {
   "cell_type": "markdown",
   "id": "cdccbabb",
   "metadata": {},
   "source": [
    "### 设置损失函数和优化器，以及用cpu还是GPU"
   ]
  },
  {
   "cell_type": "code",
   "execution_count": 5,
   "id": "3bcd9d24",
   "metadata": {
    "execution": {
     "iopub.execute_input": "2025-06-29T13:59:24.057658Z",
     "iopub.status.busy": "2025-06-29T13:59:24.057425Z",
     "iopub.status.idle": "2025-06-29T13:59:24.341105Z",
     "shell.execute_reply": "2025-06-29T13:59:24.340723Z",
     "shell.execute_reply.started": "2025-06-29T13:59:24.057645Z"
    }
   },
   "outputs": [],
   "source": [
    "model=NeuralNetwork()\n",
    "device = torch.device('cuda:0' if torch.cuda.is_available() else 'cpu')\n",
    "model.to(device)\n",
    "# 定义损失函数为交叉熵损失\n",
    "# 定义损失函数为交叉熵损失\n",
    "criterion = nn.CrossEntropyLoss() # 交叉熵损失函数用于多分类问题:\n",
    "                                 # 1. 它将模型输出的logits转换为概率分布(通过softmax)\n",
    "                                 # 2. 计算预测概率分布与真实标签之间的交叉熵\n",
    "                                 # 3. 自动处理数值稳定性问题\n",
    "                                 # 4. 输出一个标量损失值,用于反向传播优化模型\n",
    "\n",
    "# 定义优化器为Adam，学习率设为0.001\n",
    "optimizer = torch.optim.SGD(model.parameters(), lr=0.001,momentum=0.9,nesterov=True)#momentum意思：动量，表示在更新参数时，考虑之前的梯度信息，以加速收敛\n"
   ]
  },
  {
   "cell_type": "code",
   "execution_count": 6,
   "id": "578796bc",
   "metadata": {
    "execution": {
     "iopub.execute_input": "2025-06-29T13:59:24.342432Z",
     "iopub.status.busy": "2025-06-29T13:59:24.342174Z",
     "iopub.status.idle": "2025-06-29T13:59:24.344437Z",
     "shell.execute_reply": "2025-06-29T13:59:24.344033Z",
     "shell.execute_reply.started": "2025-06-29T13:59:24.342417Z"
    }
   },
   "outputs": [],
   "source": [
    "# # 在测试集上评估模型\n",
    "# test_loss, test_accuracy = evaluate_model(model, test_loader, device, criterion)\n",
    "\n",
    "# print(f'\\n测试集结果:')\n",
    "# print(f'平均损失: {test_loss:.4f}')\n",
    "# print(f'准确率: {test_accuracy:.2f}%')\n"
   ]
  },
  {
   "cell_type": "markdown",
   "id": "b6178d38",
   "metadata": {},
   "source": [
    "### 计算模型的参数量"
   ]
  },
  {
   "cell_type": "markdown",
   "id": "7c5cd28a",
   "metadata": {},
   "source": [
    "####  类里有call方法时，创建的对象可以（）有参数"
   ]
  },
  {
   "cell_type": "code",
   "execution_count": 7,
   "id": "6c1ef4c0",
   "metadata": {
    "execution": {
     "iopub.execute_input": "2025-06-29T13:59:24.344938Z",
     "iopub.status.busy": "2025-06-29T13:59:24.344814Z",
     "iopub.status.idle": "2025-06-29T13:59:24.348518Z",
     "shell.execute_reply": "2025-06-29T13:59:24.348083Z",
     "shell.execute_reply.started": "2025-06-29T13:59:24.344924Z"
    }
   },
   "outputs": [
    {
     "name": "stdout",
     "output_type": "stream",
     "text": [
      "层: hidden1.weight, 参数量: 100,352\n",
      "层: hidden1.bias, 参数量: 128\n",
      "层: hidden2.weight, 参数量: 8,192\n",
      "层: hidden2.bias, 参数量: 64\n",
      "层: hidden3.weight, 参数量: 640\n",
      "层: hidden3.bias, 参数量: 10\n",
      "模型总参数量: 109,386\n"
     ]
    }
   ],
   "source": [
    "def count_parameters(model):\n",
    "    \"\"\"计算模型的总参数量和每层参数量\"\"\"\n",
    "    # 使用nn.Module的方法获取参数量\n",
    "    total_params = 0\n",
    "    \n",
    "    # 遍历模型的所有命名参数\n",
    "    for name, parameter in model.named_parameters():\n",
    "        param_count = parameter.numel()\n",
    "        total_params += param_count\n",
    "        # 打印每层的参数名称、形状和参数量\n",
    "        print(f'层: {name}',end=', ')\n",
    "        print(f'参数量: {param_count:,}')\n",
    "        # 如果是权重层，检查是否有对应的bias\n",
    "        if 'weight' in name:\n",
    "            bias_name = name.replace('weight', 'bias')\n",
    "    \n",
    "    return total_params\n",
    "\n",
    "# 打印模型总参数量\n",
    "total_parameters = count_parameters(model)\n",
    "print(f'模型总参数量: {total_parameters:,}')\n"
   ]
  },
  {
   "cell_type": "markdown",
   "id": "aa48890e",
   "metadata": {},
   "source": [
    "### 评估函数"
   ]
  },
  {
   "cell_type": "code",
   "execution_count": 8,
   "id": "f8bd6600",
   "metadata": {
    "execution": {
     "iopub.execute_input": "2025-06-29T13:59:24.349168Z",
     "iopub.status.busy": "2025-06-29T13:59:24.348968Z",
     "iopub.status.idle": "2025-06-29T13:59:24.353051Z",
     "shell.execute_reply": "2025-06-29T13:59:24.352717Z",
     "shell.execute_reply.started": "2025-06-29T13:59:24.349155Z"
    }
   },
   "outputs": [],
   "source": [
    "def evaluate_model(model, data_loader, device, criterion=None):  # 定义评估函数,接收模型、数据加载器、设备和损失函数作为参数\n",
    "    \"\"\"\n",
    "    评估神经网络模型的性能\n",
    "    \n",
    "    参数:\n",
    "    model: 训练好的神经网络模型\n",
    "    data_loader: 数据加载器,包含测试数据\n",
    "    device: 运行设备 ('cpu' 或 'cuda')\n",
    "    criterion: 损失函数\n",
    "    \n",
    "    返回:\n",
    "    accuracy: 模型准确率\n",
    "    loss: 模型损失值 (如果未提供criterion则返回None)\n",
    "    \"\"\"\n",
    "    model.eval()  # 设置为评估模式\n",
    "    total_loss = 0  # 初始化总损失为0\n",
    "    total_correct = 0  # 初始化总正确预测数为0\n",
    "    total_samples = 0  # 初始化总样本数为0\n",
    "    \n",
    "    with torch.no_grad():  # 关闭梯度计算以节省内存\n",
    "        for batch_data, batch_labels in data_loader:  # 遍历数据加载器中的每个批次\n",
    "            batch_data = batch_data.to(device)  # 将输入数据转移到指定设备\n",
    "            batch_labels = batch_labels.to(device)  # 将标签数据转移到指定设备\n",
    "            \n",
    "            outputs = model(batch_data)  # 通过模型进行前向传播得到输出\n",
    "            \n",
    "            if criterion is not None:  # 如果提供了损失函数\n",
    "                loss = criterion(outputs, batch_labels)  # 计算当前批次的损失\n",
    "                total_loss += loss.item() * batch_data.size(0)  # 累加损失值乘以批次大小\n",
    "            \n",
    "            _, predicted = torch.max(outputs, 1)  # 获取每个样本的预测类别\n",
    "            total_correct += (predicted == batch_labels).sum().item()  # 计算正确预测的样本数\n",
    "            total_samples += batch_labels.size(0)  # 累加样本总数，考虑最后一个batch可能比较小\n",
    "    \n",
    "    accuracy = 100 * total_correct / total_samples  # 计算总体准确率，使用实际样本数作为分母\n",
    "   \n",
    "    \n",
    "    if criterion is not None:  # 如果计算了损失值\n",
    "        loss = total_loss / total_samples  # 使用实际样本数计算平均损失，考虑最后一个batch可能比较小\n",
    "        return accuracy, loss\n",
    "    else:\n",
    "        return accuracy  # 只返回准确率\n"
   ]
  },
  {
   "cell_type": "markdown",
   "id": "1413b312",
   "metadata": {},
   "source": [
    "### 早停类"
   ]
  },
  {
   "cell_type": "code",
   "execution_count": 9,
   "id": "76c67290",
   "metadata": {
    "execution": {
     "iopub.execute_input": "2025-06-29T13:59:24.353686Z",
     "iopub.status.busy": "2025-06-29T13:59:24.353477Z",
     "iopub.status.idle": "2025-06-29T13:59:24.356849Z",
     "shell.execute_reply": "2025-06-29T13:59:24.356520Z",
     "shell.execute_reply.started": "2025-06-29T13:59:24.353674Z"
    }
   },
   "outputs": [],
   "source": [
    "class EarlyStopping:\n",
    "    \"\"\"早停机制\n",
    "    \n",
    "    当验证集性能不再提升时，及时停止训练，防止过拟合\n",
    "    \n",
    "    参数:\n",
    "        patience: 容忍验证集性能不提升的轮数\n",
    "        min_delta: 验证集性能提升的最小变化值，小于此值视为没有提升\n",
    "        mode: 监控模式，'min'表示监控指标越小越好，'max'表示越大越好\n",
    "    \"\"\"\n",
    "    def __init__(self, patience=7, min_delta=0.0001):\n",
    "        self.patience = patience  # 设置容忍的轮数\n",
    "        self.min_delta = min_delta  # 设置性能提升的最小变化阈值\n",
    "        \n",
    "        self.counter = 0  # 初始化计数器\n",
    "        self.best_accuracy = float('-inf')  # 初始化最佳准确率float('-inf')负无穷\n",
    "        self.early_stop = False  # 初始化早停标志\n",
    "    \n",
    "    def __call__(self, current_accuracy):\n",
    "        if current_accuracy > self.best_accuracy + self.min_delta:  # 如果当前准确率比最佳准确率加上阈值还高\n",
    "            self.best_accuracy = current_accuracy  # 更新最佳准确率\n",
    "            self.counter = 0  # 重置计数器\n",
    "        else:  # 如果准确率没有显著提升\n",
    "            self.counter += 1  # 计数器加1\n",
    "                \n",
    "        if self.counter >= self.patience:  # 如果计数器达到容忍轮数\n",
    "            self.early_stop = True  # 设置早停标志为True\n",
    "            \n",
    "        return self.early_stop  # 返回早停标志\n"
   ]
  },
  {
   "cell_type": "markdown",
   "id": "b5f0d83d",
   "metadata": {},
   "source": [
    "### 模型保存"
   ]
  },
  {
   "cell_type": "code",
   "execution_count": 10,
   "id": "06325fe1",
   "metadata": {
    "execution": {
     "iopub.execute_input": "2025-06-29T13:59:24.357454Z",
     "iopub.status.busy": "2025-06-29T13:59:24.357234Z",
     "iopub.status.idle": "2025-06-29T13:59:24.361546Z",
     "shell.execute_reply": "2025-06-29T13:59:24.361218Z",
     "shell.execute_reply.started": "2025-06-29T13:59:24.357442Z"
    }
   },
   "outputs": [],
   "source": [
    "class ModelSaver:\n",
    "    \"\"\"模型保存类\n",
    "    \n",
    "    保存训练过程中的模型参数\n",
    "    \n",
    "    参数:\n",
    "        save_mode: 保存模式，'all'表示保存每一轮的模型，'best'表示只保存最佳模型\n",
    "    \"\"\"\n",
    "    def __init__(self, save_mode='best'):\n",
    "        self.save_mode = save_mode  # 设置模型保存模式，默认为'best'只保存最佳模型\n",
    "        self.best_accuracy = float('-inf')  # 初始化最佳准确率为负无穷，确保第一次一定会更新\n",
    "        self.best_model_state = None  # 初始化用于存储最佳模型参数的变量为空\n",
    "        # 判断保存模型的文件夹是否存在，如果不存在则创建\n",
    "        if not os.path.exists('model'):\n",
    "            os.makedirs('model')\n",
    "        \n",
    "    def __call__(self, model, current_accuracy, epoch=None):\n",
    "        if self.save_mode == 'all' and epoch is not None:  # 如果是保存所有模型的模式且提供了epoch参数\n",
    "            # 保存每一轮的模型到model文件夹\n",
    "            save_path = os.path.join('model', f'model_epoch_{epoch}.pth')\n",
    "            torch.save(model.state_dict(), save_path)  # 将当前轮次的模型参数保存到文件中\n",
    "            \n",
    "        if current_accuracy > self.best_accuracy:  # 判断当前准确率是否高于历史最佳准确率\n",
    "            self.best_accuracy = current_accuracy  # 更新最佳准确率记录\n",
    "            self.best_model_state = model.state_dict()  # 保存当前模型的参数作为最佳模型\n",
    "            if self.save_mode == 'best':  # 如果是只保存最佳模型的模式\n",
    "                self.save_best_model()  # 调用保存最佳模型的方法\n",
    "            \n",
    "    def save_best_model(self, path='best_model.pth'):\n",
    "        \"\"\"保存最佳模型到文件\n",
    "        \n",
    "        参数:\n",
    "            path: 保存模型的路径，默认为'best_model.pth'\n",
    "        \"\"\"\n",
    "        if self.best_model_state is not None:  # 确保最佳模型参数不为空\n",
    "            save_path = os.path.join('model', path)  # 将模型保存到model文件夹下\n",
    "            torch.save(self.best_model_state, save_path)  # 将最佳模型参数保存到指定路径\n"
   ]
  },
  {
   "cell_type": "markdown",
   "id": "79033010",
   "metadata": {},
   "source": [
    "### 模型训练函数\n"
   ]
  },
  {
   "cell_type": "code",
   "execution_count": 11,
   "id": "4ca26836",
   "metadata": {
    "execution": {
     "iopub.execute_input": "2025-06-29T13:59:24.362261Z",
     "iopub.status.busy": "2025-06-29T13:59:24.362063Z",
     "iopub.status.idle": "2025-06-29T13:59:24.368918Z",
     "shell.execute_reply": "2025-06-29T13:59:24.368586Z",
     "shell.execute_reply.started": "2025-06-29T13:59:24.362250Z"
    }
   },
   "outputs": [],
   "source": [
    "def train_model(model, train_loader, val_loader, criterion, optimizer, device, epochs=20,early_stopping=None,model_saver=None):\n",
    "    \"\"\"\n",
    "    训练神经网络模型\n",
    "    \n",
    "    参数:\n",
    "        model: 神经网络模型\n",
    "        train_loader: 训练数据加载器\n",
    "        val_loader: 验证数据加载器\n",
    "        criterion: 损失函数\n",
    "        optimizer: 优化器\n",
    "        epochs: 训练轮数, 默认50\n",
    "        device: 训练设备(CPU/GPU)\n",
    "        early_stopping: 早停法参数，包含patience和min_delta\n",
    "       \n",
    "    \n",
    "    返回:\n",
    "        history: 训练历史记录，包含损失值、准确率等指标\n",
    "    \"\"\"\n",
    "    history = {\n",
    "    'train_loss': [],           # 训练集损失\n",
    "    'val_loss': [],       # 验证集损失\n",
    "    'train_accuracy': [],       # 训练集准确率\n",
    "    'val_accuracy': [],   # 验证集准确率\n",
    "    'step': [],           # 记录训练步数\n",
    "    }\n",
    "    \n",
    "    # 计算总迭代次数用于进度条显示\n",
    "    total_iterations = len(train_loader) * epochs  # 计算总迭代次数\n",
    "    \n",
    "    # 使用tqdm创建进度条，显示总体训练进度\n",
    "    pbar = tqdm(total=total_iterations, desc='Training Progress')\n",
    "    \n",
    "    step_counter = 0  # 初始化步数计数器\n",
    "    \n",
    "    for epoch in range(epochs):\n",
    "        # 训练阶段\n",
    "        model.train()  # 设置模型为训练模式\n",
    "        running_loss = 0.0  # 初始化运行损失\n",
    "        correct = 0  # 初始化正确预测数\n",
    "        total = 0  # 初始化总样本数\n",
    "        \n",
    "        for i, (inputs, targets) in enumerate(train_loader):\n",
    "            step_counter += 1  # 每处理一个批次，步数加1\n",
    "            batch_size = inputs.size(0)  # 获取当前批次的实际大小，考虑最后一个batch可能较小\n",
    "            inputs, targets = inputs.to(device), targets.to(device)  # 将数据移至指定设备\n",
    "            \n",
    "            # 清零梯度\n",
    "            optimizer.zero_grad()  # 清除之前的梯度\n",
    "            \n",
    "            # 前向传播\n",
    "            outputs = model(inputs)  # 获取模型输出\n",
    "            # 计算损失值\n",
    "            loss = criterion(outputs, targets)  # 计算当前批次的损失\n",
    "            \n",
    "            # 反向传播\n",
    "            loss.backward()  # 计算梯度\n",
    "            optimizer.step() # 更新模型参数\n",
    "            \n",
    "            # 统计\n",
    "            running_loss += loss.item() * batch_size  # 累加每个batch的损失值乘以批次大小\n",
    "            _, predicted = outputs.max(1)  # 获取预测结果\n",
    "            total += batch_size  # 累加样本总数\n",
    "            correct += predicted.eq(targets).sum().item()  # 累加正确预测数\n",
    "            \n",
    "            # 计算当前批次的训练准确率和损失\n",
    "            batch_accuracy = 100. * correct / total\n",
    "            batch_loss = running_loss / total  # 使用总样本数而不是批次数\n",
    "            \n",
    "            # 更新进度条信息，显示当前批次的训练损失和准确率\n",
    "            pbar.set_postfix({\n",
    "                'epoch': f'{epoch+1}/{epochs}',  # 显示当前轮次和总轮次\n",
    "                'train_loss': f'{batch_loss:.4f}',  # 显示训练损失\n",
    "                'train_acc': f'{batch_accuracy:.2f}%',  # 显示训练准确率\n",
    "                'val_loss': f'{val_loss:.4f}' if epoch > 0 else 'N/A',  # 显示验证集损失（第一轮前显示N/A）\n",
    "                'val_acc': f'{val_accuracy:.2f}%' if epoch > 0 else 'N/A'  # 显示验证集准确率（第一轮前显示N/A）\n",
    "            })\n",
    "            pbar.update(1)  # 更新进度条\n",
    "                \n",
    "        train_accuracy = 100. * correct / total  # 计算整个训练集的准确率\n",
    "        train_loss = running_loss / total  # 计算整个训练集的平均损失，使用总样本数\n",
    "        \n",
    "        # 验证阶段\n",
    "        val_accuracy, val_loss = evaluate_model(model, val_loader, device, criterion)  # 评估模型在验证集上的表现\n",
    "        \n",
    "    \n",
    "        # 记录训练和验证指标\n",
    "        history['train_loss'].append(train_loss)  # 记录训练损失到历史记录中\n",
    "        history['val_loss'].append(val_loss)  # 记录验证损失到历史记录中\n",
    "        history['train_accuracy'].append(train_accuracy)  # 记录训练准确率到历史记录中\n",
    "        history['val_accuracy'].append(val_accuracy)  # 记录验证准确率到历史记录中\n",
    "        history['step'].append(step_counter)  # 记录当前步数到历史记录中\n",
    "        \n",
    "         # 如果有模型保存器，保存模型\n",
    "        if model_saver is not None:\n",
    "            model_saver(model, val_accuracy, epoch)  # 保存当前模型\n",
    "        \n",
    "        # 如果有早停器，检查是否应该早停\n",
    "        if early_stopping is not None:\n",
    "            early_stopping(val_accuracy)  # 使用验证准确率而不是验证损失\n",
    "            if early_stopping.early_stop:\n",
    "                print(f'早停: 已有{early_stopping.patience}轮验证损失没有改善！')\n",
    "                break\n",
    "    \n",
    "    pbar.close()  # 关闭进度条\n",
    "    return model,history\n"
   ]
  },
  {
   "cell_type": "code",
   "execution_count": 12,
   "id": "a8a388f6",
   "metadata": {
    "ExecutionIndicator": {
     "show": true
    },
    "execution": {
     "iopub.execute_input": "2025-06-29T13:59:24.369555Z",
     "iopub.status.busy": "2025-06-29T13:59:24.369379Z",
     "iopub.status.idle": "2025-06-29T14:05:08.075236Z",
     "shell.execute_reply": "2025-06-29T14:05:08.074865Z",
     "shell.execute_reply.started": "2025-06-29T13:59:24.369543Z"
    },
    "tags": []
   },
   "outputs": [
    {
     "data": {
      "application/vnd.jupyter.widget-view+json": {
       "model_id": "f5d20ab0b4194d558c5ec54f7943e408",
       "version_major": 2,
       "version_minor": 0
      },
      "text/plain": [
       "Training Progress:   0%|          | 0/43000 [00:00<?, ?it/s]"
      ]
     },
     "metadata": {},
     "output_type": "display_data"
    },
    {
     "name": "stdout",
     "output_type": "stream",
     "text": [
      "早停: 已有5轮验证损失没有改善！\n"
     ]
    }
   ],
   "source": [
    "early_stopping=EarlyStopping(patience=5, min_delta=0.01) \n",
    "model_saver=ModelSaver(save_mode='best')\n",
    "model_train, history = train_model(model, train_loader, val_loader, criterion, optimizer, device,epochs=50,early_stopping=early_stopping,model_saver=model_saver)"
   ]
  },
  {
   "cell_type": "code",
   "execution_count": 13,
   "id": "767f9751",
   "metadata": {
    "execution": {
     "iopub.execute_input": "2025-06-29T14:05:08.075949Z",
     "iopub.status.busy": "2025-06-29T14:05:08.075761Z",
     "iopub.status.idle": "2025-06-29T14:05:08.081463Z",
     "shell.execute_reply": "2025-06-29T14:05:08.081113Z",
     "shell.execute_reply.started": "2025-06-29T14:05:08.075936Z"
    },
    "tags": []
   },
   "outputs": [],
   "source": [
    "# 导入绘图库\n",
    "\n",
    "\n",
    "def plot_learning_curves(history, sample_step=500):\n",
    "    \"\"\"\n",
    "    绘制训练历史图表\n",
    "    \n",
    "    Args:\n",
    "        history (dict): 包含训练历史数据的字典，需要包含'step', 'train_accuracy', 'val_accuracy', 'train_loss', 'val_loss'键\n",
    "        sample_step (int): 采样步长，用于控制绘图点的密度\n",
    "    \"\"\"\n",
    "    # 创建一个图形，包含两个子图，宽度为12，高度为4\n",
    "    fig, (ax1, ax2) = plt.subplots(1, 2, figsize=(12, 4))  # 创建一个包含两个子图的图形\n",
    "    \n",
    "    # 根据sample_step对数据进行采样\n",
    "    indices = range(0, len(history['step']), max(1, len(history['step']) // sample_step))  # 根据sample_step计算采样索引\n",
    "    sampled_steps = [history['step'][i] for i in indices]  # 采样步数数据\n",
    "    sampled_train_acc = [history['train_accuracy'][i] for i in indices]  # 采样训练准确率数据\n",
    "    sampled_val_acc = [history['val_accuracy'][i] for i in indices]  # 采样验证准确率数据\n",
    "    sampled_train_loss = [history['train_loss'][i] for i in indices]  # 采样训练损失数据\n",
    "    sampled_val_loss = [history['val_loss'][i] for i in indices]  # 采样验证损失数据\n",
    "    \n",
    "    # 将步数转换为以1000为单位的值（1k）\n",
    "    steps_in_k = [step/1000 for step in sampled_steps]  # 将采样后的步数转换为以k为单位\n",
    "    \n",
    "    # 在第一个子图中绘制准确率曲线，不带标记点\n",
    "    ax1.plot(steps_in_k, sampled_train_acc, label='Training Accuracy', linestyle='-')  # 绘制训练准确率曲线，不带标记点\n",
    "    ax1.plot(steps_in_k, sampled_val_acc, label='Validation Accuracy', linestyle='-')  # 绘制验证准确率曲线，不带标记点\n",
    "    ax1.set_xlabel('Steps')  # 设置x轴标签\n",
    "    ax1.set_ylabel('Accuracy (%)')  # 设置y轴标签为英文\n",
    "    ax1.set_title('Training and Validation Accuracy')  # 设置图表标题\n",
    "    ax1.legend()  # 显示图例\n",
    "    ax1.grid(True)  # 显示网格\n",
    "    \n",
    "    # 在第二个子图中绘制损失曲线，不带标记点\n",
    "    ax2.plot(steps_in_k, sampled_train_loss, label='Training Loss', linestyle='-')  # 绘制训练损失曲线，不带标记点\n",
    "    ax2.plot(steps_in_k, sampled_val_loss, label='Validation Loss', linestyle='-')  # 绘制验证损失曲线，不带标记点\n",
    "    ax2.set_xlabel('Steps ')  # 设置x轴标签\n",
    "    ax2.set_ylabel('Loss')  # 设置y轴标签为英文\n",
    "    ax2.set_title('Training and Validation Loss')  # 设置图表标题\n",
    "    ax2.legend()  # 显示图例\n",
    "    ax2.grid(True)  # 显示网格\n",
    "    \n",
    "    # 设置x轴刻度标签格式，添加\"k\"后缀\n",
    "    ax1.xaxis.set_major_formatter(lambda x, pos: f'{x:.0f}k')  # 为第一个子图的x轴添加\"k\"后缀\n",
    "    ax2.xaxis.set_major_formatter(lambda x, pos: f'{x:.0f}k')  # 为第二个子图的x轴添加\"k\"后缀\n",
    "    \n",
    "    plt.tight_layout()  # 调整子图布局\n",
    "    plt.show()  # 直接显示图形而不是返回\n"
   ]
  },
  {
   "cell_type": "code",
   "execution_count": 14,
   "id": "9d7c7a76",
   "metadata": {
    "execution": {
     "iopub.execute_input": "2025-06-29T14:05:08.081959Z",
     "iopub.status.busy": "2025-06-29T14:05:08.081841Z",
     "iopub.status.idle": "2025-06-29T14:05:08.290627Z",
     "shell.execute_reply": "2025-06-29T14:05:08.290270Z",
     "shell.execute_reply.started": "2025-06-29T14:05:08.081949Z"
    },
    "tags": []
   },
   "outputs": [
    {
     "data": {
      "image/png": "[encoded data removed]",
      "text/plain": [
       "<Figure size 1200x400 with 2 Axes>"
      ]
     },
     "metadata": {},
     "output_type": "display_data"
    }
   ],
   "source": [
    "# 调用函数绘制学习曲线\n",
    "his=history.copy()\n",
    "plot_learning_curves(his,sample_step=500)"
   ]
  },
  {
   "cell_type": "code",
   "execution_count": 15,
   "id": "066c36db",
   "metadata": {
    "execution": {
     "iopub.execute_input": "2025-06-29T14:05:08.291262Z",
     "iopub.status.busy": "2025-06-29T14:05:08.291084Z",
     "iopub.status.idle": "2025-06-29T14:05:09.399152Z",
     "shell.execute_reply": "2025-06-29T14:05:09.398752Z",
     "shell.execute_reply.started": "2025-06-29T14:05:08.291246Z"
    },
    "tags": []
   },
   "outputs": [
    {
     "name": "stdout",
     "output_type": "stream",
     "text": [
      "\n",
      "测试集结果:\n",
      "平均损失: 0.3442\n",
      "准确率: 88.38%\n"
     ]
    }
   ],
   "source": [
    "# 在测试集上评估模型\n",
    "test_accuracy,test_loss  = evaluate_model(model, test_loader, device, criterion)\n",
    "\n",
    "print(f'\\n测试集结果:')\n",
    "print(f'平均损失: {test_loss:.4f}')\n",
    "print(f'准确率: {test_accuracy:.2f}%')\n"
   ]
  },
  {
   "cell_type": "code",
   "execution_count": null,
   "id": "9e71180e",
   "metadata": {},
   "outputs": [],
   "source": []
  }
 ],
 "metadata": {
  "kernelspec": {
   "display_name": "Python 3 (ipykernel)",
   "language": "python",
   "name": "python3"
  },
  "language_info": {
   "codemirror_mode": {
    "name": "ipython",
    "version": 3
   },
   "file_extension": ".py",
   "mimetype": "text/x-python",
   "name": "python",
   "nbconvert_exporter": "python",
   "pygments_lexer": "ipython3",
   "version": "3.11.11"
  }
 },
 "nbformat": 4,
 "nbformat_minor": 5
}
