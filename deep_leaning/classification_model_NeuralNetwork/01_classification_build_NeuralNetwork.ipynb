{
 "cells": [
  {
   "cell_type": "code",
   "execution_count": 25,
   "id": "061da6c3",
   "metadata": {
    "execution": {
     "iopub.execute_input": "2025-06-28T16:54:45.610348Z",
     "iopub.status.busy": "2025-06-28T16:54:45.610238Z",
     "iopub.status.idle": "2025-06-28T16:54:47.776634Z",
     "shell.execute_reply": "2025-06-28T16:54:47.776227Z",
     "shell.execute_reply.started": "2025-06-28T16:54:45.610336Z"
    }
   },
   "outputs": [],
   "source": [
    "import torch\n",
    "from torchvision import datasets\n",
    "from torchvision.transforms import ToTensor\n",
    "import matplotlib.pyplot as plt\n",
    "from torch.utils.data import random_split\n",
    "from torch.utils.data import DataLoader\n",
    "import numpy as np\n",
    "import os\n",
    "from torchvision import transforms\n",
    "from tqdm.notebook import tqdm\n"
   ]
  },
  {
   "cell_type": "markdown",
   "id": "06595958",
   "metadata": {},
   "source": [
    "### 划分验证集、测试集、训练集，并加入dataloader"
   ]
  },
  {
   "cell_type": "code",
   "execution_count": 26,
   "id": "7932416c",
   "metadata": {
    "execution": {
     "iopub.execute_input": "2025-06-28T16:54:47.777767Z",
     "iopub.status.busy": "2025-06-28T16:54:47.777458Z",
     "iopub.status.idle": "2025-06-28T16:54:51.456938Z",
     "shell.execute_reply": "2025-06-28T16:54:51.456542Z",
     "shell.execute_reply.started": "2025-06-28T16:54:47.777752Z"
    },
    "tags": []
   },
   "outputs": [],
   "source": [
    "# 从torchvision.datasets中加载FashionMNIST数据集\n",
    "train_data = datasets.FashionMNIST(   #train_data很像一个生成器，逐步将数据加入\n",
    "    root='../data',  # 数据存储路径\n",
    "    train=True,   # 使用训练集\n",
    "    download=True,  # 如果数据不存在则下载\n",
    "    transform=ToTensor()  # 将图像转换为张量\n",
    ")\n",
    "# 计算训练集的均值和标准差\n",
    "train_data_array = torch.stack([img for img, _ in train_data])  # 将训练集中的所有图像堆叠成一个大张量\n",
    "mean = train_data_array.mean()  # 计算所有图像的平均值\n",
    "std = train_data_array.std()    # 计算所有图像的标准差\n",
    "\n",
    "train_data = datasets.FashionMNIST(  \n",
    "    root='../data',  # 数据存储路径\n",
    "    train=True,   # 使用训练集\n",
    "    download=True,  # 如果数据不存在则下载\n",
    "    transform=transforms.Compose([\n",
    "        transforms.ToTensor(),\n",
    "        transforms.Normalize((mean,), (std,))\n",
    "    ])  # 将图像转换为张量并标准化\n",
    ")\n",
    "\n",
    "\n",
    "# 计算训练集和验证集的样本数\n",
    "train_size = 55000\n",
    "val_size =5000\n",
    "\n",
    "# 使用random_split函数将数据集划分为训练集和验证集\n",
    "train_dataset, val_dataset = random_split(\n",
    "    train_data, \n",
    "    [train_size, val_size],\n",
    "    generator=torch.Generator().manual_seed(42)  # 设置随机种子以确保可重复性\n",
    ")\n",
    "\n",
    "\n",
    "\n",
    "\n",
    "# 加载测试数据集\n",
    "test_dataset = datasets.FashionMNIST(\n",
    "    root='../data',  # 指定数据存储路径\n",
    "    train=False,  # 使用测试集\n",
    "    download=True,  # 如果数据不存在则下载\n",
    "    transform=transforms.Compose([transforms.ToTensor(),transforms.Normalize((mean,), (std,))])\n",
    ")\n",
    "\n",
    "\n",
    "# 设置批次大小\n",
    "batch_size = 64\n",
    "\n",
    "# 创建数据加载器\n",
    "train_loader = DataLoader(\n",
    "    train_dataset,  # 训练数据集\n",
    "    batch_size=batch_size,  # 每批次的样本数\n",
    "    shuffle=True  # 随机打乱数据\n",
    ")\n",
    "\n",
    "val_loader = DataLoader(\n",
    "    val_dataset,  # 验证数据集\n",
    "    batch_size=batch_size,\n",
    "    shuffle=False  # 验证集不需要打乱\n",
    ")\n",
    "\n",
    "test_loader = DataLoader(\n",
    "    test_dataset,  # 测试数据集\n",
    "    batch_size=batch_size,\n",
    "    shuffle=False  # 测试集不需要打乱\n",
    ")\n"
   ]
  },
  {
   "cell_type": "code",
   "execution_count": 27,
   "id": "32850d06",
   "metadata": {
    "execution": {
     "iopub.execute_input": "2025-06-28T16:54:51.457549Z",
     "iopub.status.busy": "2025-06-28T16:54:51.457406Z",
     "iopub.status.idle": "2025-06-28T16:54:51.459660Z",
     "shell.execute_reply": "2025-06-28T16:54:51.459336Z",
     "shell.execute_reply.started": "2025-06-28T16:54:51.457536Z"
    }
   },
   "outputs": [],
   "source": [
    "# # 在测试集上评估模型\n",
    "# test_loss, test_accuracy = evaluate_model(model, test_loader, device, criterion)\n",
    "\n",
    "# print(f'\\n测试集结果:')\n",
    "# print(f'平均损失: {test_loss:.4f}')\n",
    "# print(f'准确率: {test_accuracy:.2f}%')\n"
   ]
  },
  {
   "cell_type": "markdown",
   "id": "60ff03e8",
   "metadata": {},
   "source": [
    "### 搭建神经网络类"
   ]
  },
  {
   "cell_type": "code",
   "execution_count": 28,
   "id": "1e4aa2f5",
   "metadata": {
    "execution": {
     "iopub.execute_input": "2025-06-28T16:54:51.460168Z",
     "iopub.status.busy": "2025-06-28T16:54:51.460033Z",
     "iopub.status.idle": "2025-06-28T16:54:51.463791Z",
     "shell.execute_reply": "2025-06-28T16:54:51.463442Z",
     "shell.execute_reply.started": "2025-06-28T16:54:51.460156Z"
    }
   },
   "outputs": [],
   "source": [
    "import torch\n",
    "import torch.nn as nn\n",
    "\n",
    "class NeuralNetwork(nn.Module):\n",
    "    def __init__(self,):\n",
    "        super().__init__()\n",
    "        # 构建三个隐藏层的神经网络\n",
    "        # 输入层到第一个隐藏层: 784 (28*28) -> 128\n",
    "        self.hidden1 = nn.Linear(28*28, 128)\n",
    "        # 第一个隐藏层到第二个隐藏层: 128 -> 64\n",
    "        self.hidden2 = nn.Linear(128, 64)\n",
    "        # 第二个隐藏层到输出层: 64 -> 10 (10个类别)\n",
    "        self.hidden3 = nn.Linear(64, 10)\n",
    "        # 定义ReLU激活函数,用于在神经网络中引入非线性变换\n",
    "        self.relu = nn.ReLU()\n",
    "        self.dropout = nn.Dropout(0.2)\n",
    "\n",
    "\n",
    "    def forward(self, x):\n",
    "        # 将输入张量展平为一维向量\n",
    "        # 将输入张量重塑为(batch_size, 784)的形状，其中784=28*28是输入图像的像素总数\n",
    "        x = x.view(-1, 1*28 * 28)\n",
    "        # 前向传播\n",
    "        # 通过第一个隐藏层，应用ReLU激活函数\n",
    "        x = self.relu(self.hidden1(x))\n",
    "        # 通过第二个隐藏层，应用ReLU激活函数\n",
    "        x = self.relu(self.hidden2(x))\n",
    "        # 通过第三个隐藏层，得到最终输出\n",
    "        x = self.hidden3(x)\n",
    "        # 返回神经网络的输出结果\n",
    "        return x\n"
   ]
  },
  {
   "cell_type": "markdown",
   "id": "cdccbabb",
   "metadata": {},
   "source": [
    "### 设置损失函数和优化器，以及用cpu还是GPU"
   ]
  },
  {
   "cell_type": "code",
   "execution_count": 29,
   "id": "3bcd9d24",
   "metadata": {
    "execution": {
     "iopub.execute_input": "2025-06-28T16:54:51.464466Z",
     "iopub.status.busy": "2025-06-28T16:54:51.464300Z",
     "iopub.status.idle": "2025-06-28T16:54:51.765604Z",
     "shell.execute_reply": "2025-06-28T16:54:51.765212Z",
     "shell.execute_reply.started": "2025-06-28T16:54:51.464454Z"
    }
   },
   "outputs": [],
   "source": [
    "model=NeuralNetwork()\n",
    "device = torch.device('cuda:0' if torch.cuda.is_available() else 'cpu')\n",
    "model.to(device)\n",
    "# 定义损失函数为交叉熵损失\n",
    "# 定义损失函数为交叉熵损失\n",
    "criterion = nn.CrossEntropyLoss() # 交叉熵损失函数用于多分类问题:\n",
    "                                 # 1. 它将模型输出的logits转换为概率分布(通过softmax)\n",
    "                                 # 2. 计算预测概率分布与真实标签之间的交叉熵\n",
    "                                 # 3. 自动处理数值稳定性问题\n",
    "                                 # 4. 输出一个标量损失值,用于反向传播优化模型\n",
    "\n",
    "# 定义优化器为Adam，学习率设为0.001\n",
    "optimizer = torch.optim.SGD(model.parameters(), lr=0.001,momentum=0.9,nesterov=True)#momentum意思：动量，表示在更新参数时，考虑之前的梯度信息，以加速收敛\n"
   ]
  },
  {
   "cell_type": "code",
   "execution_count": 30,
   "id": "578796bc",
   "metadata": {
    "execution": {
     "iopub.execute_input": "2025-06-28T16:54:51.766877Z",
     "iopub.status.busy": "2025-06-28T16:54:51.766687Z",
     "iopub.status.idle": "2025-06-28T16:54:51.768975Z",
     "shell.execute_reply": "2025-06-28T16:54:51.768569Z",
     "shell.execute_reply.started": "2025-06-28T16:54:51.766863Z"
    }
   },
   "outputs": [],
   "source": [
    "# # 在测试集上评估模型\n",
    "# test_loss, test_accuracy = evaluate_model(model, test_loader, device, criterion)\n",
    "\n",
    "# print(f'\\n测试集结果:')\n",
    "# print(f'平均损失: {test_loss:.4f}')\n",
    "# print(f'准确率: {test_accuracy:.2f}%')\n"
   ]
  },
  {
   "cell_type": "markdown",
   "id": "b6178d38",
   "metadata": {},
   "source": [
    "### 计算模型的参数量"
   ]
  },
  {
   "cell_type": "markdown",
   "id": "7c5cd28a",
   "metadata": {},
   "source": [
    "####  类里有call方法时，创建的对象可以（）有参数"
   ]
  },
  {
   "cell_type": "code",
   "execution_count": 31,
   "id": "6c1ef4c0",
   "metadata": {
    "execution": {
     "iopub.execute_input": "2025-06-28T16:54:51.769618Z",
     "iopub.status.busy": "2025-06-28T16:54:51.769409Z",
     "iopub.status.idle": "2025-06-28T16:54:51.773102Z",
     "shell.execute_reply": "2025-06-28T16:54:51.772670Z",
     "shell.execute_reply.started": "2025-06-28T16:54:51.769606Z"
    }
   },
   "outputs": [
    {
     "name": "stdout",
     "output_type": "stream",
     "text": [
      "层: hidden1.weight, 参数量: 100,352\n",
      "层: hidden1.bias, 参数量: 128\n",
      "层: hidden2.weight, 参数量: 8,192\n",
      "层: hidden2.bias, 参数量: 64\n",
      "层: hidden3.weight, 参数量: 640\n",
      "层: hidden3.bias, 参数量: 10\n",
      "模型总参数量: 109,386\n"
     ]
    }
   ],
   "source": [
    "def count_parameters(model):\n",
    "    \"\"\"计算模型的总参数量和每层参数量\"\"\"\n",
    "    # 使用nn.Module的方法获取参数量\n",
    "    total_params = 0\n",
    "    \n",
    "    # 遍历模型的所有命名参数\n",
    "    for name, parameter in model.named_parameters():\n",
    "        param_count = parameter.numel()\n",
    "        total_params += param_count\n",
    "        # 打印每层的参数名称、形状和参数量\n",
    "        print(f'层: {name}',end=', ')\n",
    "        print(f'参数量: {param_count:,}')\n",
    "        # 如果是权重层，检查是否有对应的bias\n",
    "        if 'weight' in name:\n",
    "            bias_name = name.replace('weight', 'bias')\n",
    "    \n",
    "    return total_params\n",
    "\n",
    "# 打印模型总参数量\n",
    "total_parameters = count_parameters(model)\n",
    "print(f'模型总参数量: {total_parameters:,}')\n"
   ]
  },
  {
   "cell_type": "code",
   "execution_count": 32,
   "id": "f8bd6600",
   "metadata": {
    "execution": {
     "iopub.execute_input": "2025-06-28T16:54:51.773821Z",
     "iopub.status.busy": "2025-06-28T16:54:51.773526Z",
     "iopub.status.idle": "2025-06-28T16:54:51.778085Z",
     "shell.execute_reply": "2025-06-28T16:54:51.777735Z",
     "shell.execute_reply.started": "2025-06-28T16:54:51.773807Z"
    }
   },
   "outputs": [],
   "source": [
    "def evaluate_model(model, data_loader, device, criterion=None):  # 定义评估函数,接收模型、数据加载器、设备和损失函数作为参数\n",
    "    \"\"\"\n",
    "    评估神经网络模型的性能\n",
    "    \n",
    "    参数:\n",
    "    model: 训练好的神经网络模型\n",
    "    data_loader: 数据加载器,包含测试数据\n",
    "    device: 运行设备 ('cpu' 或 'cuda')\n",
    "    criterion: 损失函数\n",
    "    \n",
    "    返回:\n",
    "    accuracy: 模型准确率\n",
    "    loss: 模型损失值 (如果未提供criterion则返回None)\n",
    "    \"\"\"\n",
    "    model.eval()  # 设置为评估模式\n",
    "    total_loss = 0  # 初始化总损失为0\n",
    "    total_correct = 0  # 初始化总正确预测数为0\n",
    "    total_samples = 0  # 初始化总样本数为0\n",
    "    \n",
    "    with torch.no_grad():  # 关闭梯度计算以节省内存\n",
    "        for batch_data, batch_labels in data_loader:  # 遍历数据加载器中的每个批次\n",
    "            batch_data = batch_data.to(device)  # 将输入数据转移到指定设备\n",
    "            batch_labels = batch_labels.to(device)  # 将标签数据转移到指定设备\n",
    "            \n",
    "            outputs = model(batch_data)  # 通过模型进行前向传播得到输出\n",
    "            \n",
    "            if criterion is not None:  # 如果提供了损失函数\n",
    "                loss = criterion(outputs, batch_labels)  # 计算当前批次的损失\n",
    "                total_loss += loss.item() * batch_data.size(0)  # 累加损失值乘以批次大小\n",
    "            \n",
    "            _, predicted = torch.max(outputs, 1)  # 获取每个样本的预测类别\n",
    "            total_correct += (predicted == batch_labels).sum().item()  # 计算正确预测的样本数\n",
    "            total_samples += batch_labels.size(0)  # 累加样本总数，考虑最后一个batch可能比较小\n",
    "    \n",
    "    accuracy = 100 * total_correct / total_samples  # 计算总体准确率，使用实际样本数作为分母\n",
    "   \n",
    "    \n",
    "    if criterion is not None:  # 如果计算了损失值\n",
    "        loss = total_loss / total_samples  # 使用实际样本数计算平均损失，考虑最后一个batch可能比较小\n",
    "        return accuracy, loss\n",
    "    else:\n",
    "        return accuracy  # 只返回准确率\n"
   ]
  },
  {
   "cell_type": "markdown",
   "id": "1413b312",
   "metadata": {},
   "source": [
    "### 早停类"
   ]
  },
  {
   "cell_type": "code",
   "execution_count": 33,
   "id": "76c67290",
   "metadata": {
    "execution": {
     "iopub.execute_input": "2025-06-28T16:54:51.778693Z",
     "iopub.status.busy": "2025-06-28T16:54:51.778548Z",
     "iopub.status.idle": "2025-06-28T16:54:51.781935Z",
     "shell.execute_reply": "2025-06-28T16:54:51.781617Z",
     "shell.execute_reply.started": "2025-06-28T16:54:51.778681Z"
    }
   },
   "outputs": [],
   "source": [
    "class EarlyStopping:\n",
    "    \"\"\"早停机制\n",
    "    \n",
    "    当验证集性能不再提升时，及时停止训练，防止过拟合\n",
    "    \n",
    "    参数:\n",
    "        patience: 容忍验证集性能不提升的轮数\n",
    "        min_delta: 验证集性能提升的最小变化值，小于此值视为没有提升\n",
    "        mode: 监控模式，'min'表示监控指标越小越好，'max'表示越大越好\n",
    "    \"\"\"\n",
    "    def __init__(self, patience=7, min_delta=0.0001):\n",
    "        self.patience = patience  # 设置容忍的轮数\n",
    "        self.min_delta = min_delta  # 设置性能提升的最小变化阈值\n",
    "        \n",
    "        self.counter = 0  # 初始化计数器\n",
    "        self.best_accuracy = float('-inf')  # 初始化最佳准确率float('-inf')负无穷\n",
    "        self.early_stop = False  # 初始化早停标志\n",
    "    \n",
    "    def __call__(self, current_accuracy):\n",
    "        if current_accuracy > self.best_accuracy + self.min_delta:  # 如果当前准确率比最佳准确率加上阈值还高\n",
    "            self.best_accuracy = current_accuracy  # 更新最佳准确率\n",
    "            self.counter = 0  # 重置计数器\n",
    "        else:  # 如果准确率没有显著提升\n",
    "            self.counter += 1  # 计数器加1\n",
    "                \n",
    "        if self.counter >= self.patience:  # 如果计数器达到容忍轮数\n",
    "            self.early_stop = True  # 设置早停标志为True\n",
    "            print(f\"早停触发! 最佳验证准确率: {self.best_accuracy:.4f}\")\n",
    "            \n",
    "        return self.early_stop  # 返回早停标志\n"
   ]
  },
  {
   "cell_type": "markdown",
   "id": "b5f0d83d",
   "metadata": {},
   "source": [
    "### 模型保存"
   ]
  },
  {
   "cell_type": "code",
   "execution_count": 34,
   "id": "06325fe1",
   "metadata": {
    "execution": {
     "iopub.execute_input": "2025-06-28T16:54:51.782496Z",
     "iopub.status.busy": "2025-06-28T16:54:51.782373Z",
     "iopub.status.idle": "2025-06-28T16:54:51.786443Z",
     "shell.execute_reply": "2025-06-28T16:54:51.786113Z",
     "shell.execute_reply.started": "2025-06-28T16:54:51.782485Z"
    }
   },
   "outputs": [],
   "source": [
    "class ModelSaver:\n",
    "    \"\"\"模型保存类\n",
    "    \n",
    "    保存训练过程中的模型参数\n",
    "    \n",
    "    参数:\n",
    "        save_mode: 保存模式，'all'表示保存每一轮的模型，'best'表示只保存最佳模型\n",
    "    \"\"\"\n",
    "    def __init__(self, save_mode='best'):\n",
    "        self.save_mode = save_mode  # 设置模型保存模式，默认为'best'只保存最佳模型\n",
    "        self.best_accuracy = float('-inf')  # 初始化最佳准确率为负无穷，确保第一次一定会更新\n",
    "        self.best_model_state = None  # 初始化用于存储最佳模型参数的变量为空\n",
    "        # 判断保存模型的文件夹是否存在，如果不存在则创建\n",
    "        if not os.path.exists('model'):\n",
    "            os.makedirs('model')\n",
    "        \n",
    "    def __call__(self, model, current_accuracy, epoch=None):\n",
    "        if self.save_mode == 'all' and epoch is not None:  # 如果是保存所有模型的模式且提供了epoch参数\n",
    "            # 保存每一轮的模型到model文件夹\n",
    "            save_path = os.path.join('model', f'model_epoch_{epoch}.pth')\n",
    "            torch.save(model.state_dict(), save_path)  # 将当前轮次的模型参数保存到文件中\n",
    "            \n",
    "        if current_accuracy > self.best_accuracy:  # 判断当前准确率是否高于历史最佳准确率\n",
    "            self.best_accuracy = current_accuracy  # 更新最佳准确率记录\n",
    "            self.best_model_state = model.state_dict()  # 保存当前模型的参数作为最佳模型\n",
    "            if self.save_mode == 'best':  # 如果是只保存最佳模型的模式\n",
    "                self.save_best_model()  # 调用保存最佳模型的方法\n",
    "            \n",
    "    def save_best_model(self, path='best_model.pth'):\n",
    "        \"\"\"保存最佳模型到文件\n",
    "        \n",
    "        参数:\n",
    "            path: 保存模型的路径，默认为'best_model.pth'\n",
    "        \"\"\"\n",
    "        if self.best_model_state is not None:  # 确保最佳模型参数不为空\n",
    "            save_path = os.path.join('model', path)  # 将模型保存到model文件夹下\n",
    "            torch.save(self.best_model_state, save_path)  # 将最佳模型参数保存到指定路径\n"
   ]
  },
  {
   "cell_type": "markdown",
   "id": "79033010",
   "metadata": {},
   "source": [
    "### 模型训练函数\n"
   ]
  },
  {
   "cell_type": "code",
   "execution_count": 35,
   "id": "4ca26836",
   "metadata": {
    "execution": {
     "iopub.execute_input": "2025-06-28T16:54:51.787126Z",
     "iopub.status.busy": "2025-06-28T16:54:51.786989Z",
     "iopub.status.idle": "2025-06-28T16:54:51.793034Z",
     "shell.execute_reply": "2025-06-28T16:54:51.792672Z",
     "shell.execute_reply.started": "2025-06-28T16:54:51.787116Z"
    }
   },
   "outputs": [],
   "source": [
    "def train_model(model, train_loader, val_loader, criterion, optimizer, device, epochs=20,early_stopping=None,model_saver=None):\n",
    "    \"\"\"\n",
    "    训练神经网络模型\n",
    "    \n",
    "    参数:\n",
    "        model: 神经网络模型\n",
    "        train_loader: 训练数据加载器\n",
    "        val_loader: 验证数据加载器\n",
    "        criterion: 损失函数\n",
    "        optimizer: 优化器\n",
    "        epochs: 训练轮数, 默认50\n",
    "        device: 训练设备(CPU/GPU)\n",
    "        early_stopping: 早停法参数，包含patience和min_delta\n",
    "       \n",
    "    \n",
    "    返回:\n",
    "        history: 训练历史记录，包含损失值、准确率等指标\n",
    "    \"\"\"\n",
    "    history = {\n",
    "    'train_loss': [],           # 训练集损失\n",
    "    'val_loss': [],       # 验证集损失\n",
    "    'train_accuracy': [],       # 训练集准确率\n",
    "    'val_accuracy': [],   # 验证集准确率\n",
    "    'learning_rate': [],  # 学习率记录\n",
    "    }\n",
    "    \n",
    "    \n",
    "    for epoch in range(epochs):\n",
    "        # 训练阶段\n",
    "        model.train()\n",
    "        running_loss = 0.0\n",
    "        correct = 0\n",
    "        total = 0\n",
    "        \n",
    "        for i, (inputs, targets) in enumerate(train_loader):\n",
    "            inputs, targets = inputs.to(device), targets.to(device)\n",
    "            \n",
    "            # 清零梯度\n",
    "            optimizer.zero_grad()\n",
    "            \n",
    "            # 前向传播\n",
    "            outputs = model(inputs)\n",
    "            # 计算损失值\n",
    "            loss = criterion(outputs, targets)\n",
    "            \n",
    "            # 反向传播\n",
    "            loss.backward()  # 计算梯度\n",
    "            optimizer.step() # 更新模型参数\n",
    "            \n",
    "            # 统计\n",
    "            running_loss += loss.item()  # 累加每个batch的损失值\n",
    "            _, predicted = outputs.max(1)\n",
    "            total += targets.size(0)\n",
    "            correct += predicted.eq(targets).sum().item()\n",
    "\n",
    "            # 每100个批次打印一次训练进度\n",
    "            batch_idx = len(train_loader)\n",
    "            if (i+1) % 100 == 0:\n",
    "                print(f'轮次 [{epoch+1}/{epochs}]'\n",
    "                    f'批次 [{i+1}/{len(train_loader)}] - '\n",
    "                    f'损失: {loss.item():.4f}, '\n",
    "                    f'准确率: {100.*correct/total:.2f}%',end='\\r')\n",
    "                \n",
    "        train_accuracy = 100. * correct / total\n",
    "        train_loss=running_loss / len(train_loader)\n",
    "        \n",
    "        # 验证阶段\n",
    "        val_accuracy, val_loss = evaluate_model(model, val_loader, device, criterion)\n",
    "        \n",
    "\n",
    "        # 打印每轮的训练和验证结果\n",
    "        print(f'\\n轮次 [{epoch+1}/{epochs}] - '\n",
    "              f'训练损失: {train_loss:.4f}, '\n",
    "              f'训练准确率: {train_accuracy:.2f}%, '\n",
    "              f'验证损失: {val_loss:.4f}, '\n",
    "              f'验证准确率: {val_accuracy:.2f}%')\n",
    "        # 更新历史记录\n",
    "        # 记录训练和验证指标\n",
    "        \n",
    "        history['train_loss'].append(train_loss)  # Get loss from metrics dict\n",
    "        history['val_loss'].append(val_loss)  # Get loss from metrics dict\n",
    "        history['train_accuracy'].append(train_accuracy)  # Get accuracy from metrics dict \n",
    "        history['val_accuracy'].append( val_accuracy) \n",
    "        \n",
    "         # 如果有模型保存器，保存模型\n",
    "        if model_saver is not None:\n",
    "            model_saver(model, val_accuracy, epoch)\n",
    "        \n",
    "        # 如果有早停器，检查是否应该早停\n",
    "        if early_stopping is not None:\n",
    "            early_stopping(val_accuracy)  # 使用验证准确率而不是验证损失\n",
    "            if early_stopping.early_stop:\n",
    "                print(f'早停: 已有{early_stopping.patience}轮验证损失没有改善！')\n",
    "                break\n",
    "\n",
    "    return model,history\n",
    "\n"
   ]
  },
  {
   "cell_type": "code",
   "execution_count": 36,
   "id": "a8a388f6",
   "metadata": {
    "ExecutionIndicator": {
     "show": true
    },
    "execution": {
     "iopub.execute_input": "2025-06-28T16:54:51.793692Z",
     "iopub.status.busy": "2025-06-28T16:54:51.793426Z",
     "iopub.status.idle": "2025-06-28T16:59:54.911957Z",
     "shell.execute_reply": "2025-06-28T16:59:54.911526Z",
     "shell.execute_reply.started": "2025-06-28T16:54:51.793680Z"
    },
    "tags": []
   },
   "outputs": [
    {
     "name": "stdout",
     "output_type": "stream",
     "text": [
      "轮次 [1/50]批次 [800/860] - 损失: 0.6196, 准确率: 69.32%\n",
      "轮次 [1/50] - 训练损失: 0.9417, 训练准确率: 69.99%, 验证损失: 0.5986, 验证准确率: 77.98%\n",
      "轮次 [2/50]批次 [800/860] - 损失: 0.7359, 准确率: 81.41%\n",
      "轮次 [2/50] - 训练损失: 0.5181, 训练准确率: 81.53%, 验证损失: 0.5088, 验证准确率: 81.92%\n",
      "轮次 [3/50]批次 [800/860] - 损失: 0.3353, 准确率: 83.77%\n",
      "轮次 [3/50] - 训练损失: 0.4568, 训练准确率: 83.75%, 验证损失: 0.4679, 验证准确率: 83.02%\n",
      "轮次 [4/50]批次 [800/860] - 损失: 0.3462, 准确率: 84.78%\n",
      "轮次 [4/50] - 训练损失: 0.4238, 训练准确率: 84.83%, 验证损失: 0.4398, 验证准确率: 84.16%\n",
      "轮次 [5/50]批次 [700/860] - 损失: 0.2677, 准确率: 85.69%\r"
     ]
    },
    {
     "ename": "KeyboardInterrupt",
     "evalue": "",
     "output_type": "error",
     "traceback": [
      "\u001b[31m---------------------------------------------------------------------------\u001b[39m",
      "\u001b[31mKeyboardInterrupt\u001b[39m                         Traceback (most recent call last)",
      "\u001b[36mCell\u001b[39m\u001b[36m \u001b[39m\u001b[32mIn[36]\u001b[39m\u001b[32m, line 3\u001b[39m\n\u001b[32m      1\u001b[39m early_stopping=EarlyStopping(patience=\u001b[32m5\u001b[39m, min_delta=\u001b[32m0.01\u001b[39m) \n\u001b[32m      2\u001b[39m model_saver=ModelSaver(save_mode=\u001b[33m'\u001b[39m\u001b[33mbest\u001b[39m\u001b[33m'\u001b[39m)\n\u001b[32m----> \u001b[39m\u001b[32m3\u001b[39m model_train, history = \u001b[43mtrain_model\u001b[49m\u001b[43m(\u001b[49m\u001b[43mmodel\u001b[49m\u001b[43m,\u001b[49m\u001b[43m \u001b[49m\u001b[43mtrain_loader\u001b[49m\u001b[43m,\u001b[49m\u001b[43m \u001b[49m\u001b[43mval_loader\u001b[49m\u001b[43m,\u001b[49m\u001b[43m \u001b[49m\u001b[43mcriterion\u001b[49m\u001b[43m,\u001b[49m\u001b[43m \u001b[49m\u001b[43moptimizer\u001b[49m\u001b[43m,\u001b[49m\u001b[43m \u001b[49m\u001b[43mdevice\u001b[49m\u001b[43m,\u001b[49m\u001b[43mepochs\u001b[49m\u001b[43m=\u001b[49m\u001b[32;43m50\u001b[39;49m\u001b[43m,\u001b[49m\u001b[43mearly_stopping\u001b[49m\u001b[43m=\u001b[49m\u001b[43mearly_stopping\u001b[49m\u001b[43m,\u001b[49m\u001b[43mmodel_saver\u001b[49m\u001b[43m=\u001b[49m\u001b[43mmodel_saver\u001b[49m\u001b[43m)\u001b[49m\n",
      "\u001b[36mCell\u001b[39m\u001b[36m \u001b[39m\u001b[32mIn[35]\u001b[39m\u001b[32m, line 35\u001b[39m, in \u001b[36mtrain_model\u001b[39m\u001b[34m(model, train_loader, val_loader, criterion, optimizer, device, epochs, early_stopping, model_saver)\u001b[39m\n\u001b[32m     32\u001b[39m correct = \u001b[32m0\u001b[39m\n\u001b[32m     33\u001b[39m total = \u001b[32m0\u001b[39m\n\u001b[32m---> \u001b[39m\u001b[32m35\u001b[39m \u001b[43m\u001b[49m\u001b[38;5;28;43;01mfor\u001b[39;49;00m\u001b[43m \u001b[49m\u001b[43mi\u001b[49m\u001b[43m,\u001b[49m\u001b[43m \u001b[49m\u001b[43m(\u001b[49m\u001b[43minputs\u001b[49m\u001b[43m,\u001b[49m\u001b[43m \u001b[49m\u001b[43mtargets\u001b[49m\u001b[43m)\u001b[49m\u001b[43m \u001b[49m\u001b[38;5;129;43;01min\u001b[39;49;00m\u001b[43m \u001b[49m\u001b[38;5;28;43menumerate\u001b[39;49m\u001b[43m(\u001b[49m\u001b[43mtrain_loader\u001b[49m\u001b[43m)\u001b[49m\u001b[43m:\u001b[49m\n\u001b[32m     36\u001b[39m \u001b[43m    \u001b[49m\u001b[43minputs\u001b[49m\u001b[43m,\u001b[49m\u001b[43m \u001b[49m\u001b[43mtargets\u001b[49m\u001b[43m \u001b[49m\u001b[43m=\u001b[49m\u001b[43m \u001b[49m\u001b[43minputs\u001b[49m\u001b[43m.\u001b[49m\u001b[43mto\u001b[49m\u001b[43m(\u001b[49m\u001b[43mdevice\u001b[49m\u001b[43m)\u001b[49m\u001b[43m,\u001b[49m\u001b[43m \u001b[49m\u001b[43mtargets\u001b[49m\u001b[43m.\u001b[49m\u001b[43mto\u001b[49m\u001b[43m(\u001b[49m\u001b[43mdevice\u001b[49m\u001b[43m)\u001b[49m\n\u001b[32m     38\u001b[39m \u001b[43m    \u001b[49m\u001b[38;5;66;43;03m# 清零梯度\u001b[39;49;00m\n",
      "\u001b[36mFile \u001b[39m\u001b[32m~\\AppData\\Roaming\\Python\\Python312\\site-packages\\torch\\utils\\data\\dataloader.py:733\u001b[39m, in \u001b[36m_BaseDataLoaderIter.__next__\u001b[39m\u001b[34m(self)\u001b[39m\n\u001b[32m    730\u001b[39m \u001b[38;5;28;01mif\u001b[39;00m \u001b[38;5;28mself\u001b[39m._sampler_iter \u001b[38;5;129;01mis\u001b[39;00m \u001b[38;5;28;01mNone\u001b[39;00m:\n\u001b[32m    731\u001b[39m     \u001b[38;5;66;03m# TODO(https://github.com/pytorch/pytorch/issues/76750)\u001b[39;00m\n\u001b[32m    732\u001b[39m     \u001b[38;5;28mself\u001b[39m._reset()  \u001b[38;5;66;03m# type: ignore[call-arg]\u001b[39;00m\n\u001b[32m--> \u001b[39m\u001b[32m733\u001b[39m data = \u001b[38;5;28;43mself\u001b[39;49m\u001b[43m.\u001b[49m\u001b[43m_next_data\u001b[49m\u001b[43m(\u001b[49m\u001b[43m)\u001b[49m\n\u001b[32m    734\u001b[39m \u001b[38;5;28mself\u001b[39m._num_yielded += \u001b[32m1\u001b[39m\n\u001b[32m    735\u001b[39m \u001b[38;5;28;01mif\u001b[39;00m (\n\u001b[32m    736\u001b[39m     \u001b[38;5;28mself\u001b[39m._dataset_kind == _DatasetKind.Iterable\n\u001b[32m    737\u001b[39m     \u001b[38;5;129;01mand\u001b[39;00m \u001b[38;5;28mself\u001b[39m._IterableDataset_len_called \u001b[38;5;129;01mis\u001b[39;00m \u001b[38;5;129;01mnot\u001b[39;00m \u001b[38;5;28;01mNone\u001b[39;00m\n\u001b[32m    738\u001b[39m     \u001b[38;5;129;01mand\u001b[39;00m \u001b[38;5;28mself\u001b[39m._num_yielded > \u001b[38;5;28mself\u001b[39m._IterableDataset_len_called\n\u001b[32m    739\u001b[39m ):\n",
      "\u001b[36mFile \u001b[39m\u001b[32m~\\AppData\\Roaming\\Python\\Python312\\site-packages\\torch\\utils\\data\\dataloader.py:789\u001b[39m, in \u001b[36m_SingleProcessDataLoaderIter._next_data\u001b[39m\u001b[34m(self)\u001b[39m\n\u001b[32m    787\u001b[39m \u001b[38;5;28;01mdef\u001b[39;00m\u001b[38;5;250m \u001b[39m\u001b[34m_next_data\u001b[39m(\u001b[38;5;28mself\u001b[39m):\n\u001b[32m    788\u001b[39m     index = \u001b[38;5;28mself\u001b[39m._next_index()  \u001b[38;5;66;03m# may raise StopIteration\u001b[39;00m\n\u001b[32m--> \u001b[39m\u001b[32m789\u001b[39m     data = \u001b[38;5;28;43mself\u001b[39;49m\u001b[43m.\u001b[49m\u001b[43m_dataset_fetcher\u001b[49m\u001b[43m.\u001b[49m\u001b[43mfetch\u001b[49m\u001b[43m(\u001b[49m\u001b[43mindex\u001b[49m\u001b[43m)\u001b[49m  \u001b[38;5;66;03m# may raise StopIteration\u001b[39;00m\n\u001b[32m    790\u001b[39m     \u001b[38;5;28;01mif\u001b[39;00m \u001b[38;5;28mself\u001b[39m._pin_memory:\n\u001b[32m    791\u001b[39m         data = _utils.pin_memory.pin_memory(data, \u001b[38;5;28mself\u001b[39m._pin_memory_device)\n",
      "\u001b[36mFile \u001b[39m\u001b[32m~\\AppData\\Roaming\\Python\\Python312\\site-packages\\torch\\utils\\data\\_utils\\fetch.py:50\u001b[39m, in \u001b[36m_MapDatasetFetcher.fetch\u001b[39m\u001b[34m(self, possibly_batched_index)\u001b[39m\n\u001b[32m     48\u001b[39m \u001b[38;5;28;01mif\u001b[39;00m \u001b[38;5;28mself\u001b[39m.auto_collation:\n\u001b[32m     49\u001b[39m     \u001b[38;5;28;01mif\u001b[39;00m \u001b[38;5;28mhasattr\u001b[39m(\u001b[38;5;28mself\u001b[39m.dataset, \u001b[33m\"\u001b[39m\u001b[33m__getitems__\u001b[39m\u001b[33m\"\u001b[39m) \u001b[38;5;129;01mand\u001b[39;00m \u001b[38;5;28mself\u001b[39m.dataset.__getitems__:\n\u001b[32m---> \u001b[39m\u001b[32m50\u001b[39m         data = \u001b[38;5;28;43mself\u001b[39;49m\u001b[43m.\u001b[49m\u001b[43mdataset\u001b[49m\u001b[43m.\u001b[49m\u001b[43m__getitems__\u001b[49m\u001b[43m(\u001b[49m\u001b[43mpossibly_batched_index\u001b[49m\u001b[43m)\u001b[49m\n\u001b[32m     51\u001b[39m     \u001b[38;5;28;01melse\u001b[39;00m:\n\u001b[32m     52\u001b[39m         data = [\u001b[38;5;28mself\u001b[39m.dataset[idx] \u001b[38;5;28;01mfor\u001b[39;00m idx \u001b[38;5;129;01min\u001b[39;00m possibly_batched_index]\n",
      "\u001b[36mFile \u001b[39m\u001b[32m~\\AppData\\Roaming\\Python\\Python312\\site-packages\\torch\\utils\\data\\dataset.py:416\u001b[39m, in \u001b[36mSubset.__getitems__\u001b[39m\u001b[34m(self, indices)\u001b[39m\n\u001b[32m    414\u001b[39m     \u001b[38;5;28;01mreturn\u001b[39;00m \u001b[38;5;28mself\u001b[39m.dataset.__getitems__([\u001b[38;5;28mself\u001b[39m.indices[idx] \u001b[38;5;28;01mfor\u001b[39;00m idx \u001b[38;5;129;01min\u001b[39;00m indices])  \u001b[38;5;66;03m# type: ignore[attr-defined]\u001b[39;00m\n\u001b[32m    415\u001b[39m \u001b[38;5;28;01melse\u001b[39;00m:\n\u001b[32m--> \u001b[39m\u001b[32m416\u001b[39m     \u001b[38;5;28;01mreturn\u001b[39;00m [\u001b[38;5;28;43mself\u001b[39;49m\u001b[43m.\u001b[49m\u001b[43mdataset\u001b[49m\u001b[43m[\u001b[49m\u001b[38;5;28;43mself\u001b[39;49m\u001b[43m.\u001b[49m\u001b[43mindices\u001b[49m\u001b[43m[\u001b[49m\u001b[43midx\u001b[49m\u001b[43m]\u001b[49m\u001b[43m]\u001b[49m \u001b[38;5;28;01mfor\u001b[39;00m idx \u001b[38;5;129;01min\u001b[39;00m indices]\n",
      "\u001b[36mFile \u001b[39m\u001b[32m~\\AppData\\Roaming\\Python\\Python312\\site-packages\\torchvision\\datasets\\mnist.py:146\u001b[39m, in \u001b[36mMNIST.__getitem__\u001b[39m\u001b[34m(self, index)\u001b[39m\n\u001b[32m    143\u001b[39m img = Image.fromarray(img.numpy(), mode=\u001b[33m\"\u001b[39m\u001b[33mL\u001b[39m\u001b[33m\"\u001b[39m)\n\u001b[32m    145\u001b[39m \u001b[38;5;28;01mif\u001b[39;00m \u001b[38;5;28mself\u001b[39m.transform \u001b[38;5;129;01mis\u001b[39;00m \u001b[38;5;129;01mnot\u001b[39;00m \u001b[38;5;28;01mNone\u001b[39;00m:\n\u001b[32m--> \u001b[39m\u001b[32m146\u001b[39m     img = \u001b[38;5;28;43mself\u001b[39;49m\u001b[43m.\u001b[49m\u001b[43mtransform\u001b[49m\u001b[43m(\u001b[49m\u001b[43mimg\u001b[49m\u001b[43m)\u001b[49m\n\u001b[32m    148\u001b[39m \u001b[38;5;28;01mif\u001b[39;00m \u001b[38;5;28mself\u001b[39m.target_transform \u001b[38;5;129;01mis\u001b[39;00m \u001b[38;5;129;01mnot\u001b[39;00m \u001b[38;5;28;01mNone\u001b[39;00m:\n\u001b[32m    149\u001b[39m     target = \u001b[38;5;28mself\u001b[39m.target_transform(target)\n",
      "\u001b[36mFile \u001b[39m\u001b[32m~\\AppData\\Roaming\\Python\\Python312\\site-packages\\torchvision\\transforms\\transforms.py:95\u001b[39m, in \u001b[36mCompose.__call__\u001b[39m\u001b[34m(self, img)\u001b[39m\n\u001b[32m     93\u001b[39m \u001b[38;5;28;01mdef\u001b[39;00m\u001b[38;5;250m \u001b[39m\u001b[34m__call__\u001b[39m(\u001b[38;5;28mself\u001b[39m, img):\n\u001b[32m     94\u001b[39m     \u001b[38;5;28;01mfor\u001b[39;00m t \u001b[38;5;129;01min\u001b[39;00m \u001b[38;5;28mself\u001b[39m.transforms:\n\u001b[32m---> \u001b[39m\u001b[32m95\u001b[39m         img = \u001b[43mt\u001b[49m\u001b[43m(\u001b[49m\u001b[43mimg\u001b[49m\u001b[43m)\u001b[49m\n\u001b[32m     96\u001b[39m     \u001b[38;5;28;01mreturn\u001b[39;00m img\n",
      "\u001b[36mFile \u001b[39m\u001b[32m~\\AppData\\Roaming\\Python\\Python312\\site-packages\\torchvision\\transforms\\transforms.py:137\u001b[39m, in \u001b[36mToTensor.__call__\u001b[39m\u001b[34m(self, pic)\u001b[39m\n\u001b[32m    129\u001b[39m \u001b[38;5;28;01mdef\u001b[39;00m\u001b[38;5;250m \u001b[39m\u001b[34m__call__\u001b[39m(\u001b[38;5;28mself\u001b[39m, pic):\n\u001b[32m    130\u001b[39m \u001b[38;5;250m    \u001b[39m\u001b[33;03m\"\"\"\u001b[39;00m\n\u001b[32m    131\u001b[39m \u001b[33;03m    Args:\u001b[39;00m\n\u001b[32m    132\u001b[39m \u001b[33;03m        pic (PIL Image or numpy.ndarray): Image to be converted to tensor.\u001b[39;00m\n\u001b[32m   (...)\u001b[39m\u001b[32m    135\u001b[39m \u001b[33;03m        Tensor: Converted image.\u001b[39;00m\n\u001b[32m    136\u001b[39m \u001b[33;03m    \"\"\"\u001b[39;00m\n\u001b[32m--> \u001b[39m\u001b[32m137\u001b[39m     \u001b[38;5;28;01mreturn\u001b[39;00m \u001b[43mF\u001b[49m\u001b[43m.\u001b[49m\u001b[43mto_tensor\u001b[49m\u001b[43m(\u001b[49m\u001b[43mpic\u001b[49m\u001b[43m)\u001b[49m\n",
      "\u001b[36mFile \u001b[39m\u001b[32m~\\AppData\\Roaming\\Python\\Python312\\site-packages\\torchvision\\transforms\\functional.py:172\u001b[39m, in \u001b[36mto_tensor\u001b[39m\u001b[34m(pic)\u001b[39m\n\u001b[32m    170\u001b[39m \u001b[38;5;28;01mif\u001b[39;00m pic.mode == \u001b[33m\"\u001b[39m\u001b[33m1\u001b[39m\u001b[33m\"\u001b[39m:\n\u001b[32m    171\u001b[39m     img = \u001b[32m255\u001b[39m * img\n\u001b[32m--> \u001b[39m\u001b[32m172\u001b[39m img = \u001b[43mimg\u001b[49m\u001b[43m.\u001b[49m\u001b[43mview\u001b[49m\u001b[43m(\u001b[49m\u001b[43mpic\u001b[49m\u001b[43m.\u001b[49m\u001b[43msize\u001b[49m\u001b[43m[\u001b[49m\u001b[32;43m1\u001b[39;49m\u001b[43m]\u001b[49m\u001b[43m,\u001b[49m\u001b[43m \u001b[49m\u001b[43mpic\u001b[49m\u001b[43m.\u001b[49m\u001b[43msize\u001b[49m\u001b[43m[\u001b[49m\u001b[32;43m0\u001b[39;49m\u001b[43m]\u001b[49m\u001b[43m,\u001b[49m\u001b[43m \u001b[49m\u001b[43mF_pil\u001b[49m\u001b[43m.\u001b[49m\u001b[43mget_image_num_channels\u001b[49m\u001b[43m(\u001b[49m\u001b[43mpic\u001b[49m\u001b[43m)\u001b[49m\u001b[43m)\u001b[49m\n\u001b[32m    173\u001b[39m \u001b[38;5;66;03m# put it from HWC to CHW format\u001b[39;00m\n\u001b[32m    174\u001b[39m img = img.permute((\u001b[32m2\u001b[39m, \u001b[32m0\u001b[39m, \u001b[32m1\u001b[39m)).contiguous()\n",
      "\u001b[31mKeyboardInterrupt\u001b[39m: "
     ]
    }
   ],
   "source": [
    "early_stopping=EarlyStopping(patience=5, min_delta=0.01) \n",
    "model_saver=ModelSaver(save_mode='best')\n",
    "model_train, history = train_model(model, train_loader, val_loader, criterion, optimizer, device,epochs=50,early_stopping=early_stopping,model_saver=model_saver)"
   ]
  },
  {
   "cell_type": "code",
   "execution_count": 19,
   "id": "767f9751",
   "metadata": {
    "execution": {
     "iopub.execute_input": "2025-06-28T16:59:54.912622Z",
     "iopub.status.busy": "2025-06-28T16:59:54.912429Z",
     "iopub.status.idle": "2025-06-28T16:59:55.134580Z",
     "shell.execute_reply": "2025-06-28T16:59:55.134213Z",
     "shell.execute_reply.started": "2025-06-28T16:59:54.912609Z"
    },
    "tags": []
   },
   "outputs": [
    {
     "data": {
      "image/png": "[encoded data removed]",
      "text/plain": [
       "<Figure size 1200x400 with 2 Axes>"
      ]
     },
     "metadata": {},
     "output_type": "display_data"
    }
   ],
   "source": [
    "# 绘制训练过程中的损失和准确率曲线\n",
    "plt.figure(figsize=(12, 4))\n",
    "\n",
    "# 损失曲线\n",
    "plt.subplot(1, 2, 1)\n",
    "plt.plot(history['train_loss'], label='Train Loss')\n",
    "plt.plot(history['val_loss'], label='Validation Loss') \n",
    "plt.title('Loss Curves')\n",
    "plt.xlabel('Epoch')\n",
    "plt.ylabel('Loss')\n",
    "plt.legend()\n",
    "\n",
    "# 准确率曲线\n",
    "plt.subplot(1, 2, 2)\n",
    "plt.plot(history['train_accuracy'], label='Train Accuracy')\n",
    "plt.plot(history['val_accuracy'], label='Validation Accuracy')\n",
    "plt.title('Accuracy Curves')\n",
    "plt.xlabel('Epoch')\n",
    "plt.ylabel('Accuracy (%)')\n",
    "plt.legend()\n",
    "\n",
    "plt.tight_layout()\n",
    "plt.show()\n"
   ]
  },
  {
   "cell_type": "code",
   "execution_count": 20,
   "id": "066c36db",
   "metadata": {
    "execution": {
     "iopub.execute_input": "2025-06-28T16:59:55.135334Z",
     "iopub.status.busy": "2025-06-28T16:59:55.135097Z",
     "iopub.status.idle": "2025-06-28T16:59:56.306387Z",
     "shell.execute_reply": "2025-06-28T16:59:56.305977Z",
     "shell.execute_reply.started": "2025-06-28T16:59:55.135321Z"
    },
    "tags": []
   },
   "outputs": [
    {
     "name": "stdout",
     "output_type": "stream",
     "text": [
      "\n",
      "测试集结果:\n",
      "平均损失: 0.3829\n",
      "准确率: 86.25%\n"
     ]
    }
   ],
   "source": [
    "# 在测试集上评估模型\n",
    "test_accuracy,test_loss  = evaluate_model(model, test_loader, device, criterion)\n",
    "\n",
    "print(f'\\n测试集结果:')\n",
    "print(f'平均损失: {test_loss:.4f}')\n",
    "print(f'准确率: {test_accuracy:.2f}%')\n"
   ]
  },
  {
   "cell_type": "code",
   "execution_count": null,
   "id": "9e71180e",
   "metadata": {},
   "outputs": [],
   "source": []
  }
 ],
 "metadata": {
  "kernelspec": {
   "display_name": "Python 3",
   "language": "python",
   "name": "python3"
  },
  "language_info": {
   "codemirror_mode": {
    "name": "ipython",
    "version": 3
   },
   "file_extension": ".py",
   "mimetype": "text/x-python",
   "name": "python",
   "nbconvert_exporter": "python",
   "pygments_lexer": "ipython3",
   "version": "3.12.3"
  }
 },
 "nbformat": 4,
 "nbformat_minor": 5
}
