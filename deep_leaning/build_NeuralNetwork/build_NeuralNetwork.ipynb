{
 "cells": [
  {
   "cell_type": "code",
   "execution_count": 8,
   "id": "061da6c3",
   "metadata": {},
   "outputs": [],
   "source": [
    "import torch\n",
    "from torchvision import datasets\n",
    "from torchvision.transforms import ToTensor\n",
    "import matplotlib.pyplot as plt\n",
    "from torch.utils.data import random_split\n",
    "from torch.utils.data import DataLoader\n"
   ]
  },
  {
   "cell_type": "markdown",
   "id": "06595958",
   "metadata": {},
   "source": [
    "### 划分验证集、测试集、训练集，并加入dataloader"
   ]
  },
  {
   "cell_type": "code",
   "execution_count": 9,
   "id": "7932416c",
   "metadata": {},
   "outputs": [],
   "source": [
    "# 从torchvision.datasets中加载FashionMNIST数据集\n",
    "train_data = datasets.FashionMNIST(\n",
    "    root='../data',  # 数据存储路径\n",
    "    train=True,   # 使用训练集\n",
    "    download=True,  # 如果数据不存在则下载\n",
    "    transform=ToTensor()  # 将图像转换为张量\n",
    ")\n",
    "# 设定验证集比例\n",
    "validation_split = 0.1\n",
    "# 计算训练集和验证集的样本数\n",
    "train_size = int((1 - validation_split) * len(train_data))\n",
    "val_size = len(train_data) - train_size\n",
    "\n",
    "# 使用random_split函数将数据集划分为训练集和验证集\n",
    "train_dataset, val_dataset = random_split(\n",
    "    train_data, \n",
    "    [train_size, val_size],\n",
    "    generator=torch.Generator().manual_seed(42)  # 设置随机种子以确保可重复性\n",
    ")\n",
    "\n",
    "\n",
    "# 加载测试数据集\n",
    "test_dataset = datasets.FashionMNIST(\n",
    "    root='../data',  # 指定数据存储路径\n",
    "    train=False,  # 使用测试集\n",
    "    download=True,  # 如果数据不存在则下载\n",
    "    transform=ToTensor()  # 将图像转换为张量\n",
    ")\n",
    "\n",
    "\n",
    "# 设置批次大小\n",
    "batch_size = 64\n",
    "\n",
    "# 创建数据加载器\n",
    "train_loader = DataLoader(\n",
    "    train_dataset,  # 训练数据集\n",
    "    batch_size=batch_size,  # 每批次的样本数\n",
    "    shuffle=True  # 随机打乱数据\n",
    ")\n",
    "\n",
    "val_loader = DataLoader(\n",
    "    val_dataset,  # 验证数据集\n",
    "    batch_size=batch_size,\n",
    "    shuffle=False  # 验证集不需要打乱\n",
    ")\n",
    "\n",
    "test_loader = DataLoader(\n",
    "    test_dataset,  # 测试数据集\n",
    "    batch_size=batch_size,\n",
    "    shuffle=False  # 测试集不需要打乱\n",
    ")\n"
   ]
  },
  {
   "cell_type": "code",
   "execution_count": null,
   "id": "1e4aa2f5",
   "metadata": {},
   "outputs": [],
   "source": []
  }
 ],
 "metadata": {
  "kernelspec": {
   "display_name": "Python 3",
   "language": "python",
   "name": "python3"
  },
  "language_info": {
   "codemirror_mode": {
    "name": "ipython",
    "version": 3
   },
   "file_extension": ".py",
   "mimetype": "text/x-python",
   "name": "python",
   "nbconvert_exporter": "python",
   "pygments_lexer": "ipython3",
   "version": "3.12.3"
  }
 },
 "nbformat": 4,
 "nbformat_minor": 5
}
