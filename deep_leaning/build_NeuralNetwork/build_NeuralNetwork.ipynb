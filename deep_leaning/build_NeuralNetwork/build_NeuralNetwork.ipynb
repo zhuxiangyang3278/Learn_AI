{
 "cells": [
  {
   "cell_type": "code",
   "execution_count": 1,
   "id": "061da6c3",
   "metadata": {
    "execution": {
     "iopub.execute_input": "2025-06-28T16:54:45.610348Z",
     "iopub.status.busy": "2025-06-28T16:54:45.610238Z",
     "iopub.status.idle": "2025-06-28T16:54:47.776634Z",
     "shell.execute_reply": "2025-06-28T16:54:47.776227Z",
     "shell.execute_reply.started": "2025-06-28T16:54:45.610336Z"
    }
   },
   "outputs": [],
   "source": [
    "import torch\n",
    "from torchvision import datasets\n",
    "from torchvision.transforms import ToTensor\n",
    "import matplotlib.pyplot as plt\n",
    "from torch.utils.data import random_split\n",
    "from torch.utils.data import DataLoader\n",
    "import numpy as np\n",
    "import os\n",
    "from torchvision import transforms\n"
   ]
  },
  {
   "cell_type": "markdown",
   "id": "06595958",
   "metadata": {},
   "source": [
    "### 划分验证集、测试集、训练集，并加入dataloader"
   ]
  },
  {
   "cell_type": "code",
   "execution_count": 2,
   "id": "7932416c",
   "metadata": {
    "execution": {
     "iopub.execute_input": "2025-06-28T16:54:47.777767Z",
     "iopub.status.busy": "2025-06-28T16:54:47.777458Z",
     "iopub.status.idle": "2025-06-28T16:54:51.456938Z",
     "shell.execute_reply": "2025-06-28T16:54:51.456542Z",
     "shell.execute_reply.started": "2025-06-28T16:54:47.777752Z"
    },
    "tags": []
   },
   "outputs": [],
   "source": [
    "# 从torchvision.datasets中加载FashionMNIST数据集\n",
    "train_data = datasets.FashionMNIST(   #train_data很像一个生成器，逐步将数据加入\n",
    "    root='../data',  # 数据存储路径\n",
    "    train=True,   # 使用训练集\n",
    "    download=True,  # 如果数据不存在则下载\n",
    "    transform=ToTensor()  # 将图像转换为张量\n",
    ")\n",
    "# 计算训练集的均值和标准差\n",
    "train_data_array = torch.stack([img for img, _ in train_data])  # 将训练集中的所有图像堆叠成一个大张量\n",
    "mean = train_data_array.mean()  # 计算所有图像的平均值\n",
    "std = train_data_array.std()    # 计算所有图像的标准差\n",
    "\n",
    "train_data = datasets.FashionMNIST(  \n",
    "    root='../data',  # 数据存储路径\n",
    "    train=True,   # 使用训练集\n",
    "    download=True,  # 如果数据不存在则下载\n",
    "    transform=transforms.Compose([\n",
    "        transforms.ToTensor(),\n",
    "        transforms.Normalize((mean,), (std,))\n",
    "    ])  # 将图像转换为张量并标准化\n",
    ")\n",
    "\n",
    "\n",
    "# 计算训练集和验证集的样本数\n",
    "train_size = 55000\n",
    "val_size =5000\n",
    "\n",
    "# 使用random_split函数将数据集划分为训练集和验证集\n",
    "train_dataset, val_dataset = random_split(\n",
    "    train_data, \n",
    "    [train_size, val_size],\n",
    "    generator=torch.Generator().manual_seed(42)  # 设置随机种子以确保可重复性\n",
    ")\n",
    "\n",
    "\n",
    "\n",
    "\n",
    "# 加载测试数据集\n",
    "test_dataset = datasets.FashionMNIST(\n",
    "    root='../data',  # 指定数据存储路径\n",
    "    train=False,  # 使用测试集\n",
    "    download=True,  # 如果数据不存在则下载\n",
    "    transform=transforms.Compose([transforms.ToTensor(),transforms.Normalize((mean,), (std,))])\n",
    ")\n",
    "\n",
    "\n",
    "# 设置批次大小\n",
    "batch_size = 64\n",
    "\n",
    "# 创建数据加载器\n",
    "train_loader = DataLoader(\n",
    "    train_dataset,  # 训练数据集\n",
    "    batch_size=batch_size,  # 每批次的样本数\n",
    "    shuffle=True  # 随机打乱数据\n",
    ")\n",
    "\n",
    "val_loader = DataLoader(\n",
    "    val_dataset,  # 验证数据集\n",
    "    batch_size=batch_size,\n",
    "    shuffle=False  # 验证集不需要打乱\n",
    ")\n",
    "\n",
    "test_loader = DataLoader(\n",
    "    test_dataset,  # 测试数据集\n",
    "    batch_size=batch_size,\n",
    "    shuffle=False  # 测试集不需要打乱\n",
    ")\n"
   ]
  },
  {
   "cell_type": "code",
   "execution_count": 3,
   "id": "32850d06",
   "metadata": {
    "execution": {
     "iopub.execute_input": "2025-06-28T16:54:51.457549Z",
     "iopub.status.busy": "2025-06-28T16:54:51.457406Z",
     "iopub.status.idle": "2025-06-28T16:54:51.459660Z",
     "shell.execute_reply": "2025-06-28T16:54:51.459336Z",
     "shell.execute_reply.started": "2025-06-28T16:54:51.457536Z"
    }
   },
   "outputs": [],
   "source": [
    "# # 在测试集上评估模型\n",
    "# test_loss, test_accuracy = evaluate_model(model, test_loader, device, criterion)\n",
    "\n",
    "# print(f'\\n测试集结果:')\n",
    "# print(f'平均损失: {test_loss:.4f}')\n",
    "# print(f'准确率: {test_accuracy:.2f}%')\n"
   ]
  },
  {
   "cell_type": "markdown",
   "id": "60ff03e8",
   "metadata": {},
   "source": [
    "### 搭建神经网络类"
   ]
  },
  {
   "cell_type": "code",
   "execution_count": 4,
   "id": "1e4aa2f5",
   "metadata": {
    "execution": {
     "iopub.execute_input": "2025-06-28T16:54:51.460168Z",
     "iopub.status.busy": "2025-06-28T16:54:51.460033Z",
     "iopub.status.idle": "2025-06-28T16:54:51.463791Z",
     "shell.execute_reply": "2025-06-28T16:54:51.463442Z",
     "shell.execute_reply.started": "2025-06-28T16:54:51.460156Z"
    }
   },
   "outputs": [],
   "source": [
    "import torch\n",
    "import torch.nn as nn\n",
    "\n",
    "class NeuralNetwork(nn.Module):\n",
    "    def __init__(self,):\n",
    "        super().__init__()\n",
    "        # 构建三个隐藏层的神经网络\n",
    "        self.hidden1 = nn.Linear(28*28, 400)\n",
    "        self.hidden2 = nn.Linear(400, 150)\n",
    "        self.hidden3 = nn.Linear(150, 10)\n",
    "        self.relu = nn.ReLU()  # 定义ReLU激活函数,用于在神经网络中引入非线性变换\n",
    "\n",
    "    def forward(self, x):\n",
    "        # 将输入张量展平为一维向量\n",
    "        # 将输入张量重塑为(batch_size, 784)的形状，其中784=28*28是输入图像的像素总数\n",
    "        x = x.view(-1, 1*28 * 28)\n",
    "        # 前向传播\n",
    "        # 通过第一个隐藏层，应用ReLU激活函数\n",
    "        x = self.relu(self.hidden1(x))\n",
    "        # 通过第二个隐藏层，应用ReLU激活函数\n",
    "        x = self.relu(self.hidden2(x))\n",
    "        # 通过第三个隐藏层，得到最终输出\n",
    "        x = self.hidden3(x)\n",
    "        # 返回神经网络的输出结果\n",
    "        return x\n"
   ]
  },
  {
   "cell_type": "markdown",
   "id": "cdccbabb",
   "metadata": {},
   "source": [
    "### 设置损失函数和优化器，以及用cpu还是GPU"
   ]
  },
  {
   "cell_type": "code",
   "execution_count": 5,
   "id": "3bcd9d24",
   "metadata": {
    "execution": {
     "iopub.execute_input": "2025-06-28T16:54:51.464466Z",
     "iopub.status.busy": "2025-06-28T16:54:51.464300Z",
     "iopub.status.idle": "2025-06-28T16:54:51.765604Z",
     "shell.execute_reply": "2025-06-28T16:54:51.765212Z",
     "shell.execute_reply.started": "2025-06-28T16:54:51.464454Z"
    }
   },
   "outputs": [],
   "source": [
    "model=NeuralNetwork()\n",
    "device = torch.device('cuda:0' if torch.cuda.is_available() else 'cpu')\n",
    "model.to(device)\n",
    "# 定义损失函数为交叉熵损失\n",
    "criterion = nn.CrossEntropyLoss()\n",
    "\n",
    "# 定义优化器为Adam，学习率设为0.001\n",
    "optimizer = torch.optim.SGD(model.parameters(), lr=0.001,momentum=0.9,nesterov=True)#momentum意思：动量，表示在更新参数时，考虑之前的梯度信息，以加速收敛\n"
   ]
  },
  {
   "cell_type": "code",
   "execution_count": 6,
   "id": "578796bc",
   "metadata": {
    "execution": {
     "iopub.execute_input": "2025-06-28T16:54:51.766877Z",
     "iopub.status.busy": "2025-06-28T16:54:51.766687Z",
     "iopub.status.idle": "2025-06-28T16:54:51.768975Z",
     "shell.execute_reply": "2025-06-28T16:54:51.768569Z",
     "shell.execute_reply.started": "2025-06-28T16:54:51.766863Z"
    }
   },
   "outputs": [],
   "source": [
    "# # 在测试集上评估模型\n",
    "# test_loss, test_accuracy = evaluate_model(model, test_loader, device, criterion)\n",
    "\n",
    "# print(f'\\n测试集结果:')\n",
    "# print(f'平均损失: {test_loss:.4f}')\n",
    "# print(f'准确率: {test_accuracy:.2f}%')\n"
   ]
  },
  {
   "cell_type": "markdown",
   "id": "b6178d38",
   "metadata": {},
   "source": [
    "### 计算模型的参数量"
   ]
  },
  {
   "cell_type": "markdown",
   "id": "7c5cd28a",
   "metadata": {},
   "source": [
    "####  类里有call方法时，创建的对象可以（）有参数"
   ]
  },
  {
   "cell_type": "code",
   "execution_count": 7,
   "id": "6c1ef4c0",
   "metadata": {
    "execution": {
     "iopub.execute_input": "2025-06-28T16:54:51.769618Z",
     "iopub.status.busy": "2025-06-28T16:54:51.769409Z",
     "iopub.status.idle": "2025-06-28T16:54:51.773102Z",
     "shell.execute_reply": "2025-06-28T16:54:51.772670Z",
     "shell.execute_reply.started": "2025-06-28T16:54:51.769606Z"
    }
   },
   "outputs": [
    {
     "name": "stdout",
     "output_type": "stream",
     "text": [
      "层: hidden1.weight, 参数量: 313,600\n",
      "层: hidden1.bias, 参数量: 400\n",
      "层: hidden2.weight, 参数量: 60,000\n",
      "层: hidden2.bias, 参数量: 150\n",
      "层: hidden3.weight, 参数量: 1,500\n",
      "层: hidden3.bias, 参数量: 10\n",
      "模型总参数量: 375,660\n"
     ]
    }
   ],
   "source": [
    "def count_parameters(model):\n",
    "    \"\"\"计算模型的总参数量和每层参数量\"\"\"\n",
    "    # 使用nn.Module的方法获取参数量\n",
    "    total_params = 0\n",
    "    \n",
    "    # 遍历模型的所有命名参数\n",
    "    for name, parameter in model.named_parameters():\n",
    "        param_count = parameter.numel()\n",
    "        total_params += param_count\n",
    "        # 打印每层的参数名称、形状和参数量\n",
    "        print(f'层: {name}',end=', ')\n",
    "        print(f'参数量: {param_count:,}')\n",
    "        # 如果是权重层，检查是否有对应的bias\n",
    "        if 'weight' in name:\n",
    "            bias_name = name.replace('weight', 'bias')\n",
    "    \n",
    "    return total_params\n",
    "\n",
    "# 打印模型总参数量\n",
    "total_parameters = count_parameters(model)\n",
    "print(f'模型总参数量: {total_parameters:,}')\n"
   ]
  },
  {
   "cell_type": "code",
   "execution_count": 8,
   "id": "f8bd6600",
   "metadata": {
    "execution": {
     "iopub.execute_input": "2025-06-28T16:54:51.773821Z",
     "iopub.status.busy": "2025-06-28T16:54:51.773526Z",
     "iopub.status.idle": "2025-06-28T16:54:51.778085Z",
     "shell.execute_reply": "2025-06-28T16:54:51.777735Z",
     "shell.execute_reply.started": "2025-06-28T16:54:51.773807Z"
    }
   },
   "outputs": [],
   "source": [
    "def evaluate_model(model, data_loader, device, criterion=None):  # 定义评估函数,接收模型、数据加载器、设备和损失函数作为参数\n",
    "    \"\"\"\n",
    "    评估神经网络模型的性能\n",
    "    \n",
    "    参数:\n",
    "    model: 训练好的神经网络模型\n",
    "    data_loader: 数据加载器,包含测试数据\n",
    "    device: 运行设备 ('cpu' 或 'cuda')\n",
    "    criterion: 损失函数\n",
    "    \n",
    "    返回:\n",
    "    accuracy: 模型准确率\n",
    "    loss: 模型损失值 (如果未提供criterion则返回None)\n",
    "    \"\"\"\n",
    "    model.eval()  # 设置为评估模式\n",
    "    total_loss = 0  # 初始化总损失为0\n",
    "    total_correct = 0  # 初始化总正确预测数为0\n",
    "    total_samples = 0  # 初始化总样本数为0\n",
    "    \n",
    "    with torch.no_grad():  # 关闭梯度计算以节省内存\n",
    "        for batch_data, batch_labels in data_loader:  # 遍历数据加载器中的每个批次\n",
    "            batch_data = batch_data.to(device)  # 将输入数据转移到指定设备\n",
    "            batch_labels = batch_labels.to(device)  # 将标签数据转移到指定设备\n",
    "            \n",
    "            outputs = model(batch_data)  # 通过模型进行前向传播得到输出\n",
    "            \n",
    "            if criterion is not None:  # 如果提供了损失函数\n",
    "                loss = criterion(outputs, batch_labels)  # 计算当前批次的损失\n",
    "                total_loss += loss.item() * batch_data.size(0)  # 累加损失值乘以批次大小\n",
    "            \n",
    "            _, predicted = torch.max(outputs, 1)  # 获取每个样本的预测类别\n",
    "            total_correct += (predicted == batch_labels).sum().item()  # 计算正确预测的样本数\n",
    "            total_samples += batch_labels.size(0)  # 累加样本总数\n",
    "    \n",
    "    accuracy = 100*total_correct / total_samples  # 计算总体准确率\n",
    "   \n",
    "    \n",
    "    if criterion is not None:  # 如果计算了损失值\n",
    "        loss = total_loss / total_samples\n",
    "        return accuracy, loss\n",
    "    else:\n",
    "        return accuracy  # 只返回准确率\n"
   ]
  },
  {
   "cell_type": "markdown",
   "id": "1413b312",
   "metadata": {},
   "source": [
    "### 早停类"
   ]
  },
  {
   "cell_type": "code",
   "execution_count": 9,
   "id": "76c67290",
   "metadata": {
    "execution": {
     "iopub.execute_input": "2025-06-28T16:54:51.778693Z",
     "iopub.status.busy": "2025-06-28T16:54:51.778548Z",
     "iopub.status.idle": "2025-06-28T16:54:51.781935Z",
     "shell.execute_reply": "2025-06-28T16:54:51.781617Z",
     "shell.execute_reply.started": "2025-06-28T16:54:51.778681Z"
    }
   },
   "outputs": [],
   "source": [
    "class EarlyStopping:\n",
    "    \"\"\"早停机制\n",
    "    \n",
    "    当验证集性能不再提升时，及时停止训练，防止过拟合\n",
    "    \n",
    "    参数:\n",
    "        patience: 容忍验证集性能不提升的轮数\n",
    "        min_delta: 验证集性能提升的最小变化值，小于此值视为没有提升\n",
    "        mode: 监控模式，'min'表示监控指标越小越好，'max'表示越大越好\n",
    "    \"\"\"\n",
    "    def __init__(self, patience=7, min_delta=0.0001):\n",
    "        self.patience = patience  # 设置容忍的轮数\n",
    "        self.min_delta = min_delta  # 设置性能提升的最小变化阈值\n",
    "        \n",
    "        self.counter = 0  # 初始化计数器\n",
    "        self.best_accuracy = float('-inf')  # 初始化最佳准确率float('-inf')负无穷\n",
    "        self.early_stop = False  # 初始化早停标志\n",
    "    \n",
    "    def __call__(self, current_accuracy):\n",
    "        if current_accuracy > self.best_accuracy + self.min_delta:  # 如果当前准确率比最佳准确率加上阈值还高\n",
    "            self.best_accuracy = current_accuracy  # 更新最佳准确率\n",
    "            self.counter = 0  # 重置计数器\n",
    "        else:  # 如果准确率没有显著提升\n",
    "            self.counter += 1  # 计数器加1\n",
    "                \n",
    "        if self.counter >= self.patience:  # 如果计数器达到容忍轮数\n",
    "            self.early_stop = True  # 设置早停标志为True\n",
    "            \n",
    "        return self.early_stop  # 返回早停标志\n"
   ]
  },
  {
   "cell_type": "markdown",
   "id": "b5f0d83d",
   "metadata": {},
   "source": [
    "### 模型保存"
   ]
  },
  {
   "cell_type": "code",
   "execution_count": 10,
   "id": "06325fe1",
   "metadata": {
    "execution": {
     "iopub.execute_input": "2025-06-28T16:54:51.782496Z",
     "iopub.status.busy": "2025-06-28T16:54:51.782373Z",
     "iopub.status.idle": "2025-06-28T16:54:51.786443Z",
     "shell.execute_reply": "2025-06-28T16:54:51.786113Z",
     "shell.execute_reply.started": "2025-06-28T16:54:51.782485Z"
    }
   },
   "outputs": [],
   "source": [
    "class ModelSaver:\n",
    "    \"\"\"模型保存类\n",
    "    \n",
    "    保存训练过程中的模型参数\n",
    "    \n",
    "    参数:\n",
    "        save_mode: 保存模式，'all'表示保存每一轮的模型，'best'表示只保存最佳模型\n",
    "    \"\"\"\n",
    "    def __init__(self, save_mode='best'):\n",
    "        self.save_mode = save_mode  # 设置模型保存模式，默认为'best'只保存最佳模型\n",
    "        self.best_accuracy = float('-inf')  # 初始化最佳准确率为负无穷，确保第一次一定会更新\n",
    "        self.best_model_state = None  # 初始化用于存储最佳模型参数的变量为空\n",
    "        # 创建保存模型的文件夹\n",
    "        os.makedirs('model', exist_ok=True)\n",
    "        \n",
    "    def __call__(self, model, current_accuracy, epoch=None):\n",
    "        if self.save_mode == 'all' and epoch is not None:  # 如果是保存所有模型的模式且提供了epoch参数\n",
    "            # 保存每一轮的模型到model文件夹\n",
    "            save_path = os.path.join('model', f'model_epoch_{epoch}.pth')\n",
    "            torch.save(model.state_dict(), save_path)  # 将当前轮次的模型参数保存到文件中\n",
    "            \n",
    "        if current_accuracy > self.best_accuracy:  # 判断当前准确率是否高于历史最佳准确率\n",
    "            self.best_accuracy = current_accuracy  # 更新最佳准确率记录\n",
    "            self.best_model_state = model.state_dict()  # 保存当前模型的参数作为最佳模型\n",
    "            if self.save_mode == 'best':  # 如果是只保存最佳模型的模式\n",
    "                self.save_best_model()  # 调用保存最佳模型的方法\n",
    "            \n",
    "    def save_best_model(self, path='best_model.pth'):\n",
    "        \"\"\"保存最佳模型到文件\n",
    "        \n",
    "        参数:\n",
    "            path: 保存模型的路径，默认为'best_model.pth'\n",
    "        \"\"\"\n",
    "        if self.best_model_state is not None:  # 确保最佳模型参数不为空\n",
    "            save_path = os.path.join('model', path)  # 将模型保存到model文件夹下\n",
    "            torch.save(self.best_model_state, save_path)  # 将最佳模型参数保存到指定路径\n",
    "\n"
   ]
  },
  {
   "cell_type": "code",
   "execution_count": 11,
   "id": "4ca26836",
   "metadata": {
    "execution": {
     "iopub.execute_input": "2025-06-28T16:54:51.787126Z",
     "iopub.status.busy": "2025-06-28T16:54:51.786989Z",
     "iopub.status.idle": "2025-06-28T16:54:51.793034Z",
     "shell.execute_reply": "2025-06-28T16:54:51.792672Z",
     "shell.execute_reply.started": "2025-06-28T16:54:51.787116Z"
    }
   },
   "outputs": [],
   "source": [
    "def train_model(model, train_loader, val_loader, criterion, optimizer, device, epochs=20,early_stopping=None,model_saver=None):\n",
    "    \"\"\"\n",
    "    训练神经网络模型\n",
    "    \n",
    "    参数:\n",
    "        model: 神经网络模型\n",
    "        train_loader: 训练数据加载器\n",
    "        val_loader: 验证数据加载器\n",
    "        criterion: 损失函数\n",
    "        optimizer: 优化器\n",
    "        epochs: 训练轮数, 默认50\n",
    "        device: 训练设备(CPU/GPU)\n",
    "        early_stopping: 早停法参数，包含patience和min_delta\n",
    "       \n",
    "    \n",
    "    返回:\n",
    "        history: 训练历史记录，包含损失值、准确率等指标\n",
    "    \"\"\"\n",
    "    history = {\n",
    "    'train_loss': [],           # 训练集损失\n",
    "    'val_loss': [],       # 验证集损失\n",
    "    'train_accuracy': [],       # 训练集准确率\n",
    "    'val_accuracy': [],   # 验证集准确率\n",
    "    'learning_rate': [],  # 学习率记录\n",
    "    }\n",
    "    \n",
    "    \n",
    "    for epoch in range(epochs):\n",
    "        # 训练阶段\n",
    "        model.train()\n",
    "        running_loss = 0.0\n",
    "        correct = 0\n",
    "        total = 0\n",
    "        \n",
    "        for i, (inputs, targets) in enumerate(train_loader):\n",
    "            inputs, targets = inputs.to(device), targets.to(device)\n",
    "            \n",
    "            # 清零梯度\n",
    "            optimizer.zero_grad()\n",
    "            \n",
    "            # 前向传播\n",
    "            outputs = model(inputs)\n",
    "            # 计算损失值\n",
    "            loss = criterion(outputs, targets)\n",
    "            \n",
    "            # 反向传播\n",
    "            loss.backward()  # 计算梯度\n",
    "            optimizer.step() # 更新模型参数\n",
    "            \n",
    "            # 统计\n",
    "            running_loss += loss.item()  # 累加每个batch的损失值\n",
    "            _, predicted = outputs.max(1)\n",
    "            total += targets.size(0)\n",
    "            correct += predicted.eq(targets).sum().item()\n",
    "\n",
    "            # 每100个批次打印一次训练进度\n",
    "            batch_idx = len(train_loader)\n",
    "            if (i+1) % 100 == 0:\n",
    "                print(f'轮次 [{epoch+1}/{epochs}]'\n",
    "                    f'批次 [{i+1}/{len(train_loader)}] - '\n",
    "                    f'损失: {loss.item():.4f}, '\n",
    "                    f'准确率: {100.*correct/total:.2f}%',end='\\r')\n",
    "        train_accuracy = 100. * correct / total\n",
    "        train_loss=running_loss / len(train_loader)\n",
    "        \n",
    "        # 验证阶段\n",
    "        val_accuracy, val_loss = evaluate_model(model, val_loader, device, criterion)\n",
    "        \n",
    "\n",
    "        # 打印每轮的训练和验证结果\n",
    "        print(f'\\n轮次 [{epoch+1}/{epochs}] - '\n",
    "              f'训练损失: {train_loss:.4f}, '\n",
    "              f'训练准确率: {train_accuracy:.2f}%, '\n",
    "              f'验证损失: {val_loss:.4f}, '\n",
    "              f'验证准确率: {val_accuracy:.2f}%')\n",
    "        # 更新历史记录\n",
    "        # 记录训练和验证指标\n",
    "        \n",
    "        history['train_loss'].append(train_loss)  # Get loss from metrics dict\n",
    "        history['val_loss'].append(val_loss)  # Get loss from metrics dict\n",
    "        history['train_accuracy'].append(train_accuracy)  # Get accuracy from metrics dict \n",
    "        history['val_accuracy'].append( val_accuracy) \n",
    "        \n",
    "         # 如果有模型保存器，保存模型\n",
    "        if model_saver is not None:\n",
    "            model_saver(model, val_accuracy, epoch)\n",
    "        \n",
    "        # 如果有早停器，检查是否应该早停\n",
    "        if early_stopping is not None:\n",
    "            early_stopping(val_accuracy)  # 使用验证准确率而不是验证损失\n",
    "            if early_stopping.early_stop:\n",
    "                print(f'早停: 已有{early_stopping.patience}轮验证损失没有改善！')\n",
    "                break\n",
    "\n",
    "    return model,history\n",
    "\n"
   ]
  },
  {
   "cell_type": "code",
   "execution_count": 12,
   "id": "a8a388f6",
   "metadata": {
    "ExecutionIndicator": {
     "show": true
    },
    "execution": {
     "iopub.execute_input": "2025-06-28T16:54:51.793692Z",
     "iopub.status.busy": "2025-06-28T16:54:51.793426Z",
     "iopub.status.idle": "2025-06-28T16:59:54.911957Z",
     "shell.execute_reply": "2025-06-28T16:59:54.911526Z",
     "shell.execute_reply.started": "2025-06-28T16:54:51.793680Z"
    },
    "tags": []
   },
   "outputs": [
    {
     "name": "stdout",
     "output_type": "stream",
     "text": [
      "轮次 [1/50]批次 [800/860] - 损失: 0.5666, 准确率: 69.50%\n",
      "轮次 [1/50] - 训练损失: 0.9358, 训练准确率: 70.23%, 验证损失: 0.5869, 验证准确率: 78.54%\n",
      "轮次 [2/50]批次 [800/860] - 损失: 0.4514, 准确率: 81.67%\n",
      "轮次 [2/50] - 训练损失: 0.5103, 训练准确率: 81.75%, 验证损失: 0.5029, 验证准确率: 81.74%\n",
      "轮次 [3/50]批次 [800/860] - 损失: 0.3835, 准确率: 84.07%\n",
      "轮次 [3/50] - 训练损失: 0.4480, 训练准确率: 84.11%, 验证损失: 0.4564, 验证准确率: 83.68%\n",
      "轮次 [4/50]批次 [800/860] - 损失: 0.5173, 准确率: 85.29%\n",
      "轮次 [4/50] - 训练损失: 0.4147, 训练准确率: 85.32%, 验证损失: 0.4370, 验证准确率: 84.26%\n",
      "轮次 [5/50]批次 [800/860] - 损失: 0.3535, 准确率: 86.14%\n",
      "轮次 [5/50] - 训练损失: 0.3927, 训练准确率: 86.14%, 验证损失: 0.4137, 验证准确率: 84.96%\n",
      "轮次 [6/50]批次 [800/860] - 损失: 0.3316, 准确率: 86.65%\n",
      "轮次 [6/50] - 训练损失: 0.3746, 训练准确率: 86.64%, 验证损失: 0.3975, 验证准确率: 85.60%\n",
      "轮次 [7/50]批次 [800/860] - 损失: 0.3266, 准确率: 87.18%\n",
      "轮次 [7/50] - 训练损失: 0.3603, 训练准确率: 87.14%, 验证损失: 0.3899, 验证准确率: 86.32%\n",
      "轮次 [8/50]批次 [800/860] - 损失: 0.4793, 准确率: 87.49%\n",
      "轮次 [8/50] - 训练损失: 0.3489, 训练准确率: 87.43%, 验证损失: 0.3831, 验证准确率: 86.12%\n",
      "轮次 [9/50]批次 [800/860] - 损失: 0.3284, 准确率: 87.97%\n",
      "轮次 [9/50] - 训练损失: 0.3373, 训练准确率: 87.97%, 验证损失: 0.3860, 验证准确率: 86.10%\n",
      "轮次 [10/50]批次 [800/860] - 损失: 0.2437, 准确率: 88.16%\n",
      "轮次 [10/50] - 训练损失: 0.3277, 训练准确率: 88.22%, 验证损失: 0.3725, 验证准确率: 86.74%\n",
      "轮次 [11/50]批次 [800/860] - 损失: 0.4218, 准确率: 88.67%\n",
      "轮次 [11/50] - 训练损失: 0.3189, 训练准确率: 88.69%, 验证损失: 0.3627, 验证准确率: 87.04%\n",
      "轮次 [12/50]批次 [800/860] - 损失: 0.4291, 准确率: 88.90%\n",
      "轮次 [12/50] - 训练损失: 0.3108, 训练准确率: 88.89%, 验证损失: 0.3515, 验证准确率: 87.26%\n",
      "轮次 [13/50]批次 [800/860] - 损失: 0.2409, 准确率: 89.07%\n",
      "轮次 [13/50] - 训练损失: 0.3031, 训练准确率: 89.09%, 验证损失: 0.3538, 验证准确率: 87.06%\n",
      "轮次 [14/50]批次 [800/860] - 损失: 0.2576, 准确率: 89.41%\n",
      "轮次 [14/50] - 训练损失: 0.2954, 训练准确率: 89.31%, 验证损失: 0.3409, 验证准确率: 87.70%\n",
      "轮次 [15/50]批次 [800/860] - 损失: 0.1492, 准确率: 89.65%\n",
      "轮次 [15/50] - 训练损失: 0.2881, 训练准确率: 89.62%, 验证损失: 0.3425, 验证准确率: 87.36%\n",
      "轮次 [16/50]批次 [800/860] - 损失: 0.1441, 准确率: 89.90%\n",
      "轮次 [16/50] - 训练损失: 0.2810, 训练准确率: 89.89%, 验证损失: 0.3395, 验证准确率: 87.74%\n",
      "轮次 [17/50]批次 [800/860] - 损失: 0.2285, 准确率: 90.11%\n",
      "轮次 [17/50] - 训练损失: 0.2747, 训练准确率: 90.14%, 验证损失: 0.3373, 验证准确率: 87.70%\n",
      "轮次 [18/50]批次 [800/860] - 损失: 0.2787, 准确率: 90.35%\n",
      "轮次 [18/50] - 训练损失: 0.2678, 训练准确率: 90.37%, 验证损失: 0.3236, 验证准确率: 88.24%\n",
      "轮次 [19/50]批次 [800/860] - 损失: 0.1934, 准确率: 90.74%\n",
      "轮次 [19/50] - 训练损失: 0.2610, 训练准确率: 90.70%, 验证损失: 0.3276, 验证准确率: 88.38%\n",
      "轮次 [20/50]批次 [800/860] - 损失: 0.1770, 准确率: 90.86%\n",
      "轮次 [20/50] - 训练损失: 0.2559, 训练准确率: 90.86%, 验证损失: 0.3250, 验证准确率: 88.16%\n",
      "轮次 [21/50]批次 [800/860] - 损失: 0.3847, 准确率: 91.04%\n",
      "轮次 [21/50] - 训练损失: 0.2506, 训练准确率: 91.08%, 验证损失: 0.3191, 验证准确率: 88.60%\n",
      "轮次 [22/50]批次 [800/860] - 损失: 0.1581, 准确率: 91.44%\n",
      "轮次 [22/50] - 训练损失: 0.2437, 训练准确率: 91.40%, 验证损失: 0.3218, 验证准确率: 88.28%\n",
      "轮次 [23/50]批次 [800/860] - 损失: 0.3116, 准确率: 91.47%\n",
      "轮次 [23/50] - 训练损失: 0.2388, 训练准确率: 91.47%, 验证损失: 0.3170, 验证准确率: 88.62%\n",
      "轮次 [24/50]批次 [800/860] - 损失: 0.1919, 准确率: 91.65%\n",
      "轮次 [24/50] - 训练损失: 0.2341, 训练准确率: 91.68%, 验证损失: 0.3146, 验证准确率: 88.60%\n",
      "轮次 [25/50]批次 [800/860] - 损失: 0.1675, 准确率: 91.89%\n",
      "轮次 [25/50] - 训练损失: 0.2292, 训练准确率: 91.81%, 验证损失: 0.3213, 验证准确率: 88.62%\n",
      "轮次 [26/50]批次 [800/860] - 损失: 0.1837, 准确率: 92.11%\n",
      "轮次 [26/50] - 训练损失: 0.2218, 训练准确率: 92.09%, 验证损失: 0.3217, 验证准确率: 88.56%\n",
      "轮次 [27/50]批次 [800/860] - 损失: 0.1459, 准确率: 92.31%\n",
      "轮次 [27/50] - 训练损失: 0.2177, 训练准确率: 92.27%, 验证损失: 0.3133, 验证准确率: 88.88%\n",
      "轮次 [28/50]批次 [800/860] - 损失: 0.1968, 准确率: 92.53%\n",
      "轮次 [28/50] - 训练损失: 0.2121, 训练准确率: 92.53%, 验证损失: 0.3172, 验证准确率: 88.62%\n",
      "轮次 [29/50]批次 [800/860] - 损失: 0.1525, 准确率: 92.63%\n",
      "轮次 [29/50] - 训练损失: 0.2079, 训练准确率: 92.64%, 验证损失: 0.3220, 验证准确率: 88.22%\n",
      "轮次 [30/50]批次 [800/860] - 损失: 0.1902, 准确率: 92.72%\n",
      "轮次 [30/50] - 训练损失: 0.2027, 训练准确率: 92.79%, 验证损失: 0.3089, 验证准确率: 89.02%\n",
      "轮次 [31/50]批次 [800/860] - 损失: 0.2056, 准确率: 92.94%\n",
      "轮次 [31/50] - 训练损失: 0.1981, 训练准确率: 92.96%, 验证损失: 0.3097, 验证准确率: 89.08%\n",
      "轮次 [32/50]批次 [800/860] - 损失: 0.1050, 准确率: 93.18%\n",
      "轮次 [32/50] - 训练损失: 0.1928, 训练准确率: 93.19%, 验证损失: 0.3096, 验证准确率: 88.96%\n",
      "轮次 [33/50]批次 [800/860] - 损失: 0.1223, 准确率: 93.37%\n",
      "轮次 [33/50] - 训练损失: 0.1894, 训练准确率: 93.38%, 验证损失: 0.3128, 验证准确率: 88.86%\n",
      "轮次 [34/50]批次 [800/860] - 损失: 0.2356, 准确率: 93.53%\n",
      "轮次 [34/50] - 训练损失: 0.1842, 训练准确率: 93.54%, 验证损失: 0.3106, 验证准确率: 88.88%\n",
      "轮次 [35/50]批次 [800/860] - 损失: 0.2002, 准确率: 93.69%\n",
      "轮次 [35/50] - 训练损失: 0.1801, 训练准确率: 93.70%, 验证损失: 0.3026, 验证准确率: 89.36%\n",
      "轮次 [36/50]批次 [800/860] - 损失: 0.0737, 准确率: 93.86%\n",
      "轮次 [36/50] - 训练损失: 0.1761, 训练准确率: 93.85%, 验证损失: 0.3115, 验证准确率: 89.26%\n",
      "轮次 [37/50]批次 [800/860] - 损失: 0.1644, 准确率: 94.01%\n",
      "轮次 [37/50] - 训练损失: 0.1713, 训练准确率: 94.03%, 验证损失: 0.3150, 验证准确率: 88.92%\n",
      "轮次 [38/50]批次 [800/860] - 损失: 0.1955, 准确率: 94.15%\n",
      "轮次 [38/50] - 训练损失: 0.1669, 训练准确率: 94.16%, 验证损失: 0.3168, 验证准确率: 88.88%\n",
      "轮次 [39/50]批次 [800/860] - 损失: 0.1093, 准确率: 94.38%\n",
      "轮次 [39/50] - 训练损失: 0.1634, 训练准确率: 94.36%, 验证损失: 0.3158, 验证准确率: 88.80%\n",
      "轮次 [40/50]批次 [800/860] - 损失: 0.1479, 准确率: 94.50%\n",
      "轮次 [40/50] - 训练损失: 0.1592, 训练准确率: 94.49%, 验证损失: 0.3148, 验证准确率: 88.98%\n",
      "早停: 已有5轮验证损失没有改善！\n"
     ]
    }
   ],
   "source": [
    "early_stopping=EarlyStopping(patience=5, min_delta=0.01) \n",
    "model_saver=ModelSaver(save_mode='best')\n",
    "model_train, history = train_model(model, train_loader, val_loader, criterion, optimizer, device,epochs=50,early_stopping=early_stopping,model_saver=model_saver)"
   ]
  },
  {
   "cell_type": "code",
   "execution_count": 13,
   "id": "767f9751",
   "metadata": {
    "execution": {
     "iopub.execute_input": "2025-06-28T16:59:54.912622Z",
     "iopub.status.busy": "2025-06-28T16:59:54.912429Z",
     "iopub.status.idle": "2025-06-28T16:59:55.134580Z",
     "shell.execute_reply": "2025-06-28T16:59:55.134213Z",
     "shell.execute_reply.started": "2025-06-28T16:59:54.912609Z"
    },
    "tags": []
   },
   "outputs": [
    {
     "data": {
      "image/png": "[encoded data removed]",
      "text/plain": [
       "<Figure size 1200x400 with 2 Axes>"
      ]
     },
     "metadata": {},
     "output_type": "display_data"
    }
   ],
   "source": [
    "# 绘制训练过程中的损失和准确率曲线\n",
    "plt.figure(figsize=(12, 4))\n",
    "\n",
    "# 损失曲线\n",
    "plt.subplot(1, 2, 1)\n",
    "plt.plot(history['train_loss'], label='Train Loss')\n",
    "plt.plot(history['val_loss'], label='Validation Loss') \n",
    "plt.title('Loss Curves')\n",
    "plt.xlabel('Epoch')\n",
    "plt.ylabel('Loss')\n",
    "plt.legend()\n",
    "\n",
    "# 准确率曲线\n",
    "plt.subplot(1, 2, 2)\n",
    "plt.plot(history['train_accuracy'], label='Train Accuracy')\n",
    "plt.plot(history['val_accuracy'], label='Validation Accuracy')\n",
    "plt.title('Accuracy Curves')\n",
    "plt.xlabel('Epoch')\n",
    "plt.ylabel('Accuracy (%)')\n",
    "plt.legend()\n",
    "\n",
    "plt.tight_layout()\n",
    "plt.show()\n"
   ]
  },
  {
   "cell_type": "code",
   "execution_count": 14,
   "id": "066c36db",
   "metadata": {
    "execution": {
     "iopub.execute_input": "2025-06-28T16:59:55.135334Z",
     "iopub.status.busy": "2025-06-28T16:59:55.135097Z",
     "iopub.status.idle": "2025-06-28T16:59:56.306387Z",
     "shell.execute_reply": "2025-06-28T16:59:56.305977Z",
     "shell.execute_reply.started": "2025-06-28T16:59:55.135321Z"
    },
    "tags": []
   },
   "outputs": [
    {
     "name": "stdout",
     "output_type": "stream",
     "text": [
      "\n",
      "测试集结果:\n",
      "平均损失: 0.3298\n",
      "准确率: 88.81%\n"
     ]
    }
   ],
   "source": [
    "# 在测试集上评估模型\n",
    "test_accuracy,test_loss  = evaluate_model(model, test_loader, device, criterion)\n",
    "\n",
    "print(f'\\n测试集结果:')\n",
    "print(f'平均损失: {test_loss:.4f}')\n",
    "print(f'准确率: {test_accuracy:.2f}%')\n"
   ]
  }
 ],
 "metadata": {
  "kernelspec": {
   "display_name": "Python 3",
   "language": "python",
   "name": "python3"
  },
  "language_info": {
   "codemirror_mode": {
    "name": "ipython",
    "version": 3
   },
   "file_extension": ".py",
   "mimetype": "text/x-python",
   "name": "python",
   "nbconvert_exporter": "python",
   "pygments_lexer": "ipython3",
   "version": "3.12.3"
  }
 },
 "nbformat": 4,
 "nbformat_minor": 5
}
