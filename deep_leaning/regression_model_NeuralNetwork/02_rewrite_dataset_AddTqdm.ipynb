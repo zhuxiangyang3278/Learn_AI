{
 "cells": [
  {
   "cell_type": "code",
   "execution_count": 4,
   "metadata": {},
   "outputs": [],
   "source": [
    "import numpy as np\n",
    "import pandas as pd\n",
    "import torch\n",
    "import torch.nn as nn\n",
    "from sklearn.datasets import fetch_california_housing\n",
    "from sklearn.model_selection import train_test_split\n",
    "from sklearn.preprocessing import StandardScaler\n",
    "import matplotlib.pyplot as plt\n",
    "from tqdm.auto import tqdm\n",
    "\n",
    "\n",
    "\n",
    "# 加载加利福尼亚房价数据集\n",
    "housing = fetch_california_housing()\n",
    "X = housing.data\n",
    "y = housing.target\n",
    "\n",
    "# 数据标准化\n",
    "scaler = StandardScaler()\n",
    "X = scaler.fit_transform(X)\n",
    "\n",
    "# 划分训练集、验证集和测试集\n",
    "X_temp, X_test, y_temp, y_test = train_test_split(X, y, test_size=0.2, random_state=42)\n",
    "X_train, X_val, y_train, y_val = train_test_split(X_temp, y_temp, test_size=0.2, random_state=42)\n",
    "\n"
   ]
  },
  {
   "cell_type": "markdown",
   "metadata": {},
   "source": [
    "### 自写dataset类"
   ]
  },
  {
   "cell_type": "code",
   "execution_count": 5,
   "metadata": {},
   "outputs": [],
   "source": [
    "# 自定义HousingDataset类\n",
    "class HousingDataset(torch.utils.data.Dataset):\n",
    "    def __init__(self, features, targets):\n",
    "        # 将NumPy数组转换为PyTorch张量\n",
    "        self.features = torch.FloatTensor(features)\n",
    "        self.targets = torch.FloatTensor(targets).reshape(-1, 1)\n",
    "        \n",
    "    def __len__(self):\n",
    "        return len(self.features)\n",
    "    \n",
    "    def __getitem__(self, idx):\n",
    "        return self.features[idx], self.targets[idx]\n",
    "\n",
    "# 创建数据集实例\n",
    "train_dataset = HousingDataset(X_train, y_train)\n",
    "val_dataset = HousingDataset(X_val, y_val)\n",
    "test_dataset = HousingDataset(X_test, y_test)\n",
    "\n",
    "train_loader = torch.utils.data.DataLoader(train_dataset, batch_size=32, shuffle=True)\n",
    "val_loader = torch.utils.data.DataLoader(val_dataset, batch_size=32)\n",
    "test_loader = torch.utils.data.DataLoader(test_dataset, batch_size=32)"
   ]
  },
  {
   "cell_type": "markdown",
   "metadata": {},
   "source": [
    "### 定义神经网络模型"
   ]
  },
  {
   "cell_type": "code",
   "execution_count": 6,
   "metadata": {},
   "outputs": [],
   "source": [
    "# 定义神经网络模型\n",
    "class RegressionModel(nn.Module):\n",
    "    def __init__(self):\n",
    "        super().__init__()\n",
    "        self.layer1 = nn.Linear(8, 64)\n",
    "        self.layer2 = nn.Linear(64, 32)\n",
    "        self.layer3 = nn.Linear(32, 1)\n",
    "        self.relu = nn.ReLU()\n",
    "        \n",
    "    def forward(self, x):\n",
    "        x = self.relu(self.layer1(x))\n",
    "        x = self.relu(self.layer2(x))\n",
    "        x = self.layer3(x)\n",
    "        return x\n",
    "\n",
    "# 初始化模型、损失函数和优化器\n",
    "model = RegressionModel()\n",
    "criterion = nn.MSELoss()\n",
    "optimizer = torch.optim.Adam(model.parameters(), lr=0.01)\n",
    "\n",
    "# 训练参数\n",
    "num_epochs = 100\n",
    "\n",
    "# 用于记录损失值\n",
    "train_losses = []\n",
    "val_losses = []\n"
   ]
  },
  {
   "cell_type": "markdown",
   "metadata": {},
   "source": [
    "### 训练函数和评估函数\n"
   ]
  },
  {
   "cell_type": "code",
   "execution_count": 7,
   "metadata": {},
   "outputs": [],
   "source": [
    "def evaluate_model(model, data_loader, criterion=None):\n",
    "    \"\"\"\n",
    "    评估模型性能\n",
    "    \n",
    "    Args:\n",
    "        model: 神经网络模型\n",
    "        data_loader: 数据加载器\n",
    "        criterion: 损失函数，如果为None则只计算MSE、RMSE和MAE\n",
    "        dataset_size: 数据集大小，用于计算平均指标\n",
    "        \n",
    "    Returns:\n",
    "        如果criterion不为None，返回平均损失\n",
    "        否则返回字典，包含MSE、RMSE和MAE指标\n",
    "    \"\"\"\n",
    "    model.eval()  # 将模型设置为评估模式，关闭dropout等训练特性\n",
    "    \n",
    "    if criterion is not None:\n",
    "        # 计算损失\n",
    "        total_loss = 0.0  # 初始化总损失为0\n",
    "        with torch.no_grad():  # 关闭梯度计算，节省内存\n",
    "            total_samples = 0  # 记录样本总数\n",
    "            for inputs, targets in data_loader:  # 遍历数据加载器中的每个批次\n",
    "                batch_size = inputs.size(0)  # 获取当前批次的样本数量\n",
    "                outputs = model(inputs)  # 前向传播，获取模型预测结果\n",
    "                batch_loss = criterion(outputs, targets)  # 计算当前批次的损失\n",
    "                total_loss += batch_loss.item() * batch_size  # 累加加权批次损失到总损失\n",
    "                total_samples += batch_size  # 累加样本数量\n",
    "            \n",
    "            avg_loss = total_loss / total_samples  # 计算加权平均损失\n",
    "            return avg_loss  # 返回平均损失\n",
    "    else:\n",
    "        # 计算评估指标\n",
    "        mse = 0.0  # 初始化均方误差\n",
    "        total_samples = 0  # 初始化样本总数\n",
    "        all_targets = []  # 存储所有真实值的列表\n",
    "        all_predictions = []  # 存储所有预测值的列表\n",
    "        \n",
    "        with torch.no_grad():  # 关闭梯度计算\n",
    "            for inputs, targets in data_loader:  # 遍历数据加载器\n",
    "                batch_size = inputs.size(0)  # 获取当前批次的样本数量\n",
    "                y_pred = model(inputs)  # 获取模型预测结果\n",
    "                \n",
    "                # 计算并累加MSE，考虑批次大小\n",
    "                mse += ((y_pred - targets) ** 2).sum().item()\n",
    "                # 计算并累加MAE\n",
    "                total_samples += batch_size  # 累加样本数量\n",
    "                \n",
    "                # 收集所有预测和真实值用于绘图\n",
    "                all_targets.append(targets)  # 添加当前批次的真实值\n",
    "                all_predictions.append(y_pred)  # 添加当前批次的预测值\n",
    "        \n",
    "        # 使用实际样本数量计算平均指标，而不是预设的dataset_size\n",
    "        mse /= total_samples  # 计算整个数据集的平均MSE\n",
    "        \n",
    "        rmse = np.sqrt(mse)  # 计算均方根误差\n",
    "        \n",
    "        metrics = {  # 创建包含所有评估指标的字典\n",
    "            'mse': mse,  # 均方误差\n",
    "            'rmse': rmse,  # 均方根误差\n",
    "            'targets': torch.cat(all_targets, dim=0) if all_targets else None,  # 合并所有真实值\n",
    "            'predictions': torch.cat(all_predictions, dim=0) if all_predictions else None  # 合并所有预测值\n",
    "        }\n",
    "        \n",
    "        return metrics  # 返回评估指标字典"
   ]
  },
  {
   "cell_type": "code",
   "execution_count": 8,
   "metadata": {},
   "outputs": [],
   "source": [
    "def train_model(model, train_loader, val_loader, criterion, optimizer, num_epochs):\n",
    "    \"\"\"\n",
    "    训练模型并记录训练和验证损失\n",
    "    \n",
    "    Args:\n",
    "        model: 神经网络模型\n",
    "        train_loader: 训练数据加载器\n",
    "        val_loader: 验证数据加载器\n",
    "        criterion: 损失函数\n",
    "        optimizer: 优化器\n",
    "        num_epochs: 训练轮数\n",
    "        \n",
    "    Returns:\n",
    "        train_losses: 训练损失列表\n",
    "        val_losses: 验证损失列表\n",
    "    \"\"\"\n",
    "    train_losses = []  # 初始化存储每个epoch的训练损失的列表\n",
    "    val_losses = []  # 初始化存储每个epoch的验证损失的列表\n",
    "    \n",
    "    for epoch in tqdm(range(num_epochs), desc=\"Training Progress\"):  # 使用tqdm显示训练进度\n",
    "        # 将模型设置为训练模式\n",
    "        model.train()  # 启用dropout、batch normalization等训练特性\n",
    "        \n",
    "        # 训练循环\n",
    "        train_loss = 0.0  # 初始化当前epoch的训练损失\n",
    "        total_samples = 0  # 初始化样本计数器，用于处理最后一个batch可能较小的情况\n",
    "        for inputs, targets in train_loader:  # 移除内部tqdm，只保留外部进度条\n",
    "            batch_size = inputs.size(0)  # 获取当前批次的实际样本数量\n",
    "            optimizer.zero_grad()  # 清除之前的梯度\n",
    "            # 前向传播\n",
    "            outputs = model(inputs)  # 获取模型对当前批次的预测结果\n",
    "            loss = criterion(outputs, targets)  # 计算预测结果与真实值之间的损失\n",
    "            \n",
    "            # 反向传播和优化\n",
    "            loss.backward()  # 计算损失对每个参数的梯度\n",
    "            optimizer.step()  # 根据梯度更新模型参数\n",
    "            \n",
    "            train_loss += loss.item() * batch_size  # 累加当前批次的损失（考虑批次大小）\n",
    "            total_samples += batch_size  # 累加实际处理的样本数量\n",
    "        \n",
    "        # 计算平均训练损失，考虑实际样本数量\n",
    "        train_loss /= total_samples  # 使用实际样本数量计算平均训练损失\n",
    "        train_losses.append(train_loss)  # 将当前epoch的平均训练损失添加到列表中\n",
    "        \n",
    "        # 计算验证损失\n",
    "        val_loss = evaluate_model(model, val_loader, criterion)  # 使用验证集评估模型性能\n",
    "        val_losses.append(val_loss)  # 将当前epoch的验证损失添加到列表中\n",
    "        \n",
    "        # 每10个epoch打印一次训练损失和验证损失\n",
    "        if (epoch + 1) % 10 == 0:  # 如果当前epoch是10的倍数\n",
    "            tqdm.write(f'Epoch [{epoch+1}/{num_epochs}], Train Loss: {train_loss:.4f}, Val Loss: {val_loss:.4f}')  # 使用tqdm.write打印训练进度和损失\n",
    "    \n",
    "    return train_losses, val_losses  # 返回所有epoch的训练损失和验证损失列表\n"
   ]
  },
  {
   "cell_type": "code",
   "execution_count": 9,
   "metadata": {},
   "outputs": [
    {
     "data": {
      "application/vnd.jupyter.widget-view+json": {
       "model_id": "f480dc23491048238769d73ba5257410",
       "version_major": 2,
       "version_minor": 0
      },
      "text/plain": [
       "Training Progress:   0%|          | 0/100 [00:00<?, ?it/s]"
      ]
     },
     "metadata": {},
     "output_type": "display_data"
    },
    {
     "name": "stdout",
     "output_type": "stream",
     "text": [
      "Epoch [10/100], Train Loss: 0.3255, Val Loss: 0.3231\n",
      "Epoch [20/100], Train Loss: 0.2867, Val Loss: 0.3115\n",
      "Epoch [30/100], Train Loss: 0.2811, Val Loss: 0.3004\n",
      "Epoch [40/100], Train Loss: 0.2678, Val Loss: 0.2917\n",
      "Epoch [50/100], Train Loss: 0.2657, Val Loss: 0.2952\n",
      "Epoch [60/100], Train Loss: 0.2607, Val Loss: 0.2971\n",
      "Epoch [70/100], Train Loss: 0.2515, Val Loss: 0.2984\n",
      "Epoch [80/100], Train Loss: 0.2486, Val Loss: 0.3159\n",
      "Epoch [90/100], Train Loss: 0.2832, Val Loss: 0.3114\n",
      "Epoch [100/100], Train Loss: 0.2577, Val Loss: 0.3033\n"
     ]
    },
    {
     "data": {
      "image/png": "[encoded data removed]",
      "text/plain": [
       "<Figure size 1000x600 with 1 Axes>"
      ]
     },
     "metadata": {},
     "output_type": "display_data"
    },
    {
     "name": "stdout",
     "output_type": "stream",
     "text": [
      "Final Training Loss: 0.2577\n",
      "Final Validation Loss: 0.3033\n"
     ]
    }
   ],
   "source": [
    "\n",
    "# 训练模型\n",
    "train_losses, val_losses = train_model(model, train_loader, val_loader, criterion, optimizer, num_epochs)\n",
    "\n",
    "# 绘制训练损失和验证损失曲线\n",
    "import matplotlib.pyplot as plt\n",
    "\n",
    "plt.figure(figsize=(10, 6))\n",
    "plt.plot(range(1, len(train_losses) + 1), train_losses, label='Training Loss', marker='o', linestyle='-', markersize=2)\n",
    "plt.plot(range(1, len(val_losses) + 1), val_losses, label='Validation Loss', marker='s', linestyle='-', markersize=2)\n",
    "plt.xlabel('Epochs')\n",
    "plt.ylabel('Loss')\n",
    "plt.title('Training and Validation Loss Over Epochs')\n",
    "plt.legend()\n",
    "plt.grid(True)\n",
    "plt.tight_layout()\n",
    "plt.show()\n",
    "\n",
    "# 打印最终的训练损失和验证损失\n",
    "print(f\"Final Training Loss: {train_losses[-1]:.4f}\")\n",
    "print(f\"Final Validation Loss: {val_losses[-1]:.4f}\")\n"
   ]
  }
 ],
 "metadata": {
  "kernelspec": {
   "display_name": "Python 3",
   "language": "python",
   "name": "python3"
  },
  "language_info": {
   "codemirror_mode": {
    "name": "ipython",
    "version": 3
   },
   "file_extension": ".py",
   "mimetype": "text/x-python",
   "name": "python",
   "nbconvert_exporter": "python",
   "pygments_lexer": "ipython3",
   "version": "3.12.3"
  }
 },
 "nbformat": 4,
 "nbformat_minor": 2
}
